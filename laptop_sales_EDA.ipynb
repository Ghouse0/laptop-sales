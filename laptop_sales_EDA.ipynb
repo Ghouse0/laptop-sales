{
 "cells": [
  {
   "cell_type": "markdown",
   "id": "48f9bdc8",
   "metadata": {},
   "source": [
    "#                                         PROJECT"
   ]
  },
  {
   "cell_type": "markdown",
   "id": "011f586b",
   "metadata": {},
   "source": [
    "# Domain:- sales"
   ]
  },
  {
   "cell_type": "markdown",
   "id": "a00516ba",
   "metadata": {},
   "source": [
    "# Module:-Laptops"
   ]
  },
  {
   "cell_type": "markdown",
   "id": "66b11dee",
   "metadata": {},
   "source": [
    "# Module Discription"
   ]
  },
  {
   "cell_type": "markdown",
   "id": "d3e6c622",
   "metadata": {},
   "source": [
    "                    -The laptop model features a sleek and lightweight design, \n",
    "                    making it highly portable for on-the-go productivity.\n",
    "        \n",
    "                    -Equipped with a powerful processor and ample RAM, \n",
    "                     it ensures smooth multitasking and efficient performance for various computing tasks.\n",
    "                \n",
    "                    -The vibrant display and advanced graphics enhance the user experience, \n",
    "                    while the long-lasting battery life ensures sustained usage throughout the day"
   ]
  },
  {
   "cell_type": "markdown",
   "id": "a6bea927",
   "metadata": {},
   "source": [
    "# Client :- NEWEGG"
   ]
  },
  {
   "cell_type": "markdown",
   "id": "023166b1",
   "metadata": {},
   "source": [
    "# Client Discription"
   ]
  },
  {
   "cell_type": "markdown",
   "id": "e02aae4a",
   "metadata": {},
   "source": [
    "                   Founded in 2001 by fred chang .NEWEGG is a mid-size e-commerce platform specializing in \n",
    "                   technology and     electronics \n",
    " \n",
    "                   it was named in one of the top 10 retail by internet retailer  magazing and launchs \n",
    "                   neweggmall.com in july 2008 and newegg.ca in same year\n",
    "\n",
    "                   in 2007 during London tech week newegg announced a global expansion plan all over the world\n",
    "\n",
    "                   the digital shelves at newegg boast an impressive selection covering everything from the largest \n",
    "                   gadgets to gaming gear making teach dream accessible to enyhuiasts and everyday shopper\n"
   ]
  },
  {
   "cell_type": "markdown",
   "id": "9994263a",
   "metadata": {},
   "source": [
    "https://github.com/Ghouse0/laptop-sales"
   ]
  },
  {
   "cell_type": "markdown",
   "id": "ac82f8a7",
   "metadata": {},
   "source": [
    "Dataset Overview:\n",
    "The dataset includes 25,000 rows representing laptop orders. Each order has information about customers, laptops, and orders.\n",
    "\n",
    "Key Columns:\n",
    "    \n",
    " 'Order ID: Unique order identifier'.\n",
    " 'Customer ID: Unique customer identifier'.\n",
    " 'Gender: Customer's gender (Male/Female)'.\n",
    " 'Age: Customer's age'.\n",
    " 'Laptop Model: Laptop name with brand'.\n",
    " 'Price ($): Original laptop price'.\n",
    " 'Discount ($): Discount applied'.\n",
    " 'Month, Year: Order date details'.\n",
    " 'Final Price ($): Price after discount'.\n",
    " 'Rating: Customer's rating (3.5 to 5.0)'.\n",
    " 'State: Customer's location'.\n",
    " 'Order Count: Number of orders per customer'.\n",
    "    \n",
    "    \n",
    " Highlights:\n",
    "    \n",
    " Customer Diversity: Mix of ages and genders.\n",
    " Laptop Variety: Different laptop models and brands.\n",
    " Pricing Dynamics: Realistic pricing and discounts.\n",
    " Temporal Diversity: Orders span 2018 to 2022.\n",
    " Geographical Spread: Customers from various states.\n",
    " Repeat Customers: Up to two orders per customer.\n",
    " Sales Trends: Analysis of annual performance.\n",
    " Consistent Link: All orders link to www.newegg.com"
   ]
  },
  {
   "cell_type": "code",
   "execution_count": 1,
   "id": "304c5450",
   "metadata": {},
   "outputs": [],
   "source": [
    "import pandas as pd\n",
    "import numpy as np\n",
    "import seaborn as sns\n",
    "import plotly.express as px\n",
    "import plotly.graph_objects as go"
   ]
  },
  {
   "cell_type": "code",
   "execution_count": 2,
   "id": "e209c92b",
   "metadata": {},
   "outputs": [],
   "source": [
    "df=pd.read_csv(\"laptop_brands.csv\")"
   ]
  },
  {
   "cell_type": "code",
   "execution_count": 3,
   "id": "b966ad97",
   "metadata": {},
   "outputs": [
    {
     "data": {
      "text/html": [
       "<div>\n",
       "<style scoped>\n",
       "    .dataframe tbody tr th:only-of-type {\n",
       "        vertical-align: middle;\n",
       "    }\n",
       "\n",
       "    .dataframe tbody tr th {\n",
       "        vertical-align: top;\n",
       "    }\n",
       "\n",
       "    .dataframe thead th {\n",
       "        text-align: right;\n",
       "    }\n",
       "</style>\n",
       "<table border=\"1\" class=\"dataframe\">\n",
       "  <thead>\n",
       "    <tr style=\"text-align: right;\">\n",
       "      <th></th>\n",
       "      <th>Order ID</th>\n",
       "      <th>Customer ID</th>\n",
       "      <th>Original Customer ID</th>\n",
       "      <th>Gender</th>\n",
       "      <th>Age</th>\n",
       "      <th>Age Group</th>\n",
       "      <th>Laptop Model</th>\n",
       "      <th>Brand</th>\n",
       "      <th>Price ($)</th>\n",
       "      <th>Discount ($)</th>\n",
       "      <th>Month</th>\n",
       "      <th>Year</th>\n",
       "      <th>Final Price ($)</th>\n",
       "      <th>Rating</th>\n",
       "      <th>State</th>\n",
       "      <th>Order Count</th>\n",
       "      <th>Link</th>\n",
       "    </tr>\n",
       "  </thead>\n",
       "  <tbody>\n",
       "    <tr>\n",
       "      <th>0</th>\n",
       "      <td>1</td>\n",
       "      <td>83c03410-1e67-48c2-bde3-227c0fe60958</td>\n",
       "      <td>e4ccb009-f90c-443f-bfaf-b43e90a55ac2</td>\n",
       "      <td>Male</td>\n",
       "      <td>28</td>\n",
       "      <td>26-35</td>\n",
       "      <td>Microsoft Surface Laptop month</td>\n",
       "      <td>Microsoft</td>\n",
       "      <td>550.02</td>\n",
       "      <td>118.76</td>\n",
       "      <td>4</td>\n",
       "      <td>2020</td>\n",
       "      <td>431.26</td>\n",
       "      <td>3.7</td>\n",
       "      <td>Connecticut</td>\n",
       "      <td>1</td>\n",
       "      <td>www.newegg.com</td>\n",
       "    </tr>\n",
       "    <tr>\n",
       "      <th>1</th>\n",
       "      <td>2</td>\n",
       "      <td>bd088420-1f97-45e6-989f-f4e4e0c8476b</td>\n",
       "      <td>4e97997f-34af-47da-9146-8f4dd3576716</td>\n",
       "      <td>Male</td>\n",
       "      <td>28</td>\n",
       "      <td>26-35</td>\n",
       "      <td>Microsoft Surface Laptop mind</td>\n",
       "      <td>Microsoft</td>\n",
       "      <td>1680.99</td>\n",
       "      <td>57.95</td>\n",
       "      <td>2</td>\n",
       "      <td>2022</td>\n",
       "      <td>1623.04</td>\n",
       "      <td>3.8</td>\n",
       "      <td>North Carolina</td>\n",
       "      <td>1</td>\n",
       "      <td>www.newegg.com</td>\n",
       "    </tr>\n",
       "    <tr>\n",
       "      <th>2</th>\n",
       "      <td>3</td>\n",
       "      <td>747c916b-bbf2-4dc5-9faa-59fa11babe0b</td>\n",
       "      <td>a88a9f25-9f60-40fa-9ec9-037c5941caca</td>\n",
       "      <td>Male</td>\n",
       "      <td>28</td>\n",
       "      <td>26-35</td>\n",
       "      <td>MacBook Air miss</td>\n",
       "      <td>MacBook</td>\n",
       "      <td>1622.49</td>\n",
       "      <td>229.00</td>\n",
       "      <td>12</td>\n",
       "      <td>2022</td>\n",
       "      <td>1393.49</td>\n",
       "      <td>4.3</td>\n",
       "      <td>Iowa</td>\n",
       "      <td>1</td>\n",
       "      <td>www.newegg.com</td>\n",
       "    </tr>\n",
       "    <tr>\n",
       "      <th>3</th>\n",
       "      <td>4</td>\n",
       "      <td>5ef09850-671c-4e7d-b198-2f74c14abc15</td>\n",
       "      <td>28415632-6953-4e4f-b233-7e98e2f35150</td>\n",
       "      <td>Male</td>\n",
       "      <td>28</td>\n",
       "      <td>26-35</td>\n",
       "      <td>ASUS ROG there</td>\n",
       "      <td>ASUS</td>\n",
       "      <td>1056.38</td>\n",
       "      <td>267.33</td>\n",
       "      <td>3</td>\n",
       "      <td>2021</td>\n",
       "      <td>789.05</td>\n",
       "      <td>4.5</td>\n",
       "      <td>Michigan</td>\n",
       "      <td>1</td>\n",
       "      <td>www.newegg.com</td>\n",
       "    </tr>\n",
       "    <tr>\n",
       "      <th>4</th>\n",
       "      <td>5</td>\n",
       "      <td>94b495cc-c912-49e5-b052-72b58bf712ca</td>\n",
       "      <td>1cd600f2-3f45-4133-95c1-d450cb602843</td>\n",
       "      <td>Male</td>\n",
       "      <td>28</td>\n",
       "      <td>26-35</td>\n",
       "      <td>Lenovo IdeaPad open</td>\n",
       "      <td>Lenovo</td>\n",
       "      <td>930.63</td>\n",
       "      <td>240.87</td>\n",
       "      <td>2</td>\n",
       "      <td>2019</td>\n",
       "      <td>689.76</td>\n",
       "      <td>3.6</td>\n",
       "      <td>Connecticut</td>\n",
       "      <td>1</td>\n",
       "      <td>www.newegg.com</td>\n",
       "    </tr>\n",
       "    <tr>\n",
       "      <th>5</th>\n",
       "      <td>6</td>\n",
       "      <td>39e35e37-3e25-4d84-88fe-f31bb7cd93f1</td>\n",
       "      <td>c9b8da20-5d4b-4b09-96e4-9b2386507fb4</td>\n",
       "      <td>Male</td>\n",
       "      <td>28</td>\n",
       "      <td>26-35</td>\n",
       "      <td>Lenovo Yoga about</td>\n",
       "      <td>Lenovo</td>\n",
       "      <td>1707.45</td>\n",
       "      <td>251.78</td>\n",
       "      <td>12</td>\n",
       "      <td>2019</td>\n",
       "      <td>1455.67</td>\n",
       "      <td>4.2</td>\n",
       "      <td>Delaware</td>\n",
       "      <td>1</td>\n",
       "      <td>www.newegg.com</td>\n",
       "    </tr>\n",
       "    <tr>\n",
       "      <th>6</th>\n",
       "      <td>7</td>\n",
       "      <td>6fdb5c83-5f60-4924-a0a8-d3c28f67a826</td>\n",
       "      <td>9cb74776-f904-4fa4-a19d-82d5bf6831e9</td>\n",
       "      <td>Male</td>\n",
       "      <td>28</td>\n",
       "      <td>26-35</td>\n",
       "      <td>ASUS ZenBook instead</td>\n",
       "      <td>ASUS</td>\n",
       "      <td>1604.08</td>\n",
       "      <td>257.35</td>\n",
       "      <td>10</td>\n",
       "      <td>2018</td>\n",
       "      <td>1346.73</td>\n",
       "      <td>4.8</td>\n",
       "      <td>Mississippi</td>\n",
       "      <td>1</td>\n",
       "      <td>www.newegg.com</td>\n",
       "    </tr>\n",
       "    <tr>\n",
       "      <th>7</th>\n",
       "      <td>8</td>\n",
       "      <td>a28bf5ba-5828-4c3d-92cd-d53f68f8d824</td>\n",
       "      <td>ef5ecf00-4c36-4b8b-93c7-206401cd9c7e</td>\n",
       "      <td>Male</td>\n",
       "      <td>28</td>\n",
       "      <td>26-35</td>\n",
       "      <td>MacBook Air system</td>\n",
       "      <td>MacBook</td>\n",
       "      <td>1909.14</td>\n",
       "      <td>61.46</td>\n",
       "      <td>4</td>\n",
       "      <td>2022</td>\n",
       "      <td>1847.68</td>\n",
       "      <td>4.7</td>\n",
       "      <td>Colorado</td>\n",
       "      <td>1</td>\n",
       "      <td>www.newegg.com</td>\n",
       "    </tr>\n",
       "    <tr>\n",
       "      <th>8</th>\n",
       "      <td>9</td>\n",
       "      <td>48256b7a-5192-427d-9060-ba00585e8279</td>\n",
       "      <td>1f465dd0-dc27-46f6-b5e7-e3ce0043cbbb</td>\n",
       "      <td>Male</td>\n",
       "      <td>28</td>\n",
       "      <td>26-35</td>\n",
       "      <td>Acer Aspire happen</td>\n",
       "      <td>Acer</td>\n",
       "      <td>2232.97</td>\n",
       "      <td>145.03</td>\n",
       "      <td>8</td>\n",
       "      <td>2021</td>\n",
       "      <td>2087.94</td>\n",
       "      <td>4.5</td>\n",
       "      <td>Mississippi</td>\n",
       "      <td>1</td>\n",
       "      <td>www.newegg.com</td>\n",
       "    </tr>\n",
       "    <tr>\n",
       "      <th>9</th>\n",
       "      <td>10</td>\n",
       "      <td>d74e3676-87fe-4527-a54f-dfd8e1db5271</td>\n",
       "      <td>35effce5-1beb-4642-b2cc-565d65fa5c91</td>\n",
       "      <td>Male</td>\n",
       "      <td>28</td>\n",
       "      <td>26-35</td>\n",
       "      <td>HP Omen final</td>\n",
       "      <td>HP</td>\n",
       "      <td>1210.54</td>\n",
       "      <td>217.54</td>\n",
       "      <td>12</td>\n",
       "      <td>2021</td>\n",
       "      <td>993.00</td>\n",
       "      <td>4.9</td>\n",
       "      <td>Tennessee</td>\n",
       "      <td>1</td>\n",
       "      <td>www.newegg.com</td>\n",
       "    </tr>\n",
       "  </tbody>\n",
       "</table>\n",
       "</div>"
      ],
      "text/plain": [
       "   Order ID                           Customer ID  \\\n",
       "0         1  83c03410-1e67-48c2-bde3-227c0fe60958   \n",
       "1         2  bd088420-1f97-45e6-989f-f4e4e0c8476b   \n",
       "2         3  747c916b-bbf2-4dc5-9faa-59fa11babe0b   \n",
       "3         4  5ef09850-671c-4e7d-b198-2f74c14abc15   \n",
       "4         5  94b495cc-c912-49e5-b052-72b58bf712ca   \n",
       "5         6  39e35e37-3e25-4d84-88fe-f31bb7cd93f1   \n",
       "6         7  6fdb5c83-5f60-4924-a0a8-d3c28f67a826   \n",
       "7         8  a28bf5ba-5828-4c3d-92cd-d53f68f8d824   \n",
       "8         9  48256b7a-5192-427d-9060-ba00585e8279   \n",
       "9        10  d74e3676-87fe-4527-a54f-dfd8e1db5271   \n",
       "\n",
       "                   Original Customer ID Gender  Age Age Group  \\\n",
       "0  e4ccb009-f90c-443f-bfaf-b43e90a55ac2   Male   28     26-35   \n",
       "1  4e97997f-34af-47da-9146-8f4dd3576716   Male   28     26-35   \n",
       "2  a88a9f25-9f60-40fa-9ec9-037c5941caca   Male   28     26-35   \n",
       "3  28415632-6953-4e4f-b233-7e98e2f35150   Male   28     26-35   \n",
       "4  1cd600f2-3f45-4133-95c1-d450cb602843   Male   28     26-35   \n",
       "5  c9b8da20-5d4b-4b09-96e4-9b2386507fb4   Male   28     26-35   \n",
       "6  9cb74776-f904-4fa4-a19d-82d5bf6831e9   Male   28     26-35   \n",
       "7  ef5ecf00-4c36-4b8b-93c7-206401cd9c7e   Male   28     26-35   \n",
       "8  1f465dd0-dc27-46f6-b5e7-e3ce0043cbbb   Male   28     26-35   \n",
       "9  35effce5-1beb-4642-b2cc-565d65fa5c91   Male   28     26-35   \n",
       "\n",
       "                     Laptop Model      Brand  Price ($)  Discount ($)  Month  \\\n",
       "0  Microsoft Surface Laptop month  Microsoft     550.02        118.76      4   \n",
       "1   Microsoft Surface Laptop mind  Microsoft    1680.99         57.95      2   \n",
       "2                MacBook Air miss    MacBook    1622.49        229.00     12   \n",
       "3                  ASUS ROG there       ASUS    1056.38        267.33      3   \n",
       "4             Lenovo IdeaPad open     Lenovo     930.63        240.87      2   \n",
       "5               Lenovo Yoga about     Lenovo    1707.45        251.78     12   \n",
       "6            ASUS ZenBook instead       ASUS    1604.08        257.35     10   \n",
       "7              MacBook Air system    MacBook    1909.14         61.46      4   \n",
       "8              Acer Aspire happen       Acer    2232.97        145.03      8   \n",
       "9                   HP Omen final         HP    1210.54        217.54     12   \n",
       "\n",
       "   Year  Final Price ($)  Rating           State  Order Count            Link  \n",
       "0  2020           431.26     3.7     Connecticut            1  www.newegg.com  \n",
       "1  2022          1623.04     3.8  North Carolina            1  www.newegg.com  \n",
       "2  2022          1393.49     4.3            Iowa            1  www.newegg.com  \n",
       "3  2021           789.05     4.5        Michigan            1  www.newegg.com  \n",
       "4  2019           689.76     3.6     Connecticut            1  www.newegg.com  \n",
       "5  2019          1455.67     4.2        Delaware            1  www.newegg.com  \n",
       "6  2018          1346.73     4.8     Mississippi            1  www.newegg.com  \n",
       "7  2022          1847.68     4.7        Colorado            1  www.newegg.com  \n",
       "8  2021          2087.94     4.5     Mississippi            1  www.newegg.com  \n",
       "9  2021           993.00     4.9       Tennessee            1  www.newegg.com  "
      ]
     },
     "execution_count": 3,
     "metadata": {},
     "output_type": "execute_result"
    }
   ],
   "source": [
    "df.head(10)"
   ]
  },
  {
   "cell_type": "markdown",
   "id": "7fcbb919",
   "metadata": {},
   "source": [
    "# DATA CLENING"
   ]
  },
  {
   "cell_type": "code",
   "execution_count": 4,
   "id": "4038b4f0",
   "metadata": {},
   "outputs": [
    {
     "data": {
      "text/html": [
       "<div>\n",
       "<style scoped>\n",
       "    .dataframe tbody tr th:only-of-type {\n",
       "        vertical-align: middle;\n",
       "    }\n",
       "\n",
       "    .dataframe tbody tr th {\n",
       "        vertical-align: top;\n",
       "    }\n",
       "\n",
       "    .dataframe thead th {\n",
       "        text-align: right;\n",
       "    }\n",
       "</style>\n",
       "<table border=\"1\" class=\"dataframe\">\n",
       "  <thead>\n",
       "    <tr style=\"text-align: right;\">\n",
       "      <th></th>\n",
       "      <th>Order ID</th>\n",
       "      <th>Customer ID</th>\n",
       "      <th>Original Customer ID</th>\n",
       "      <th>Gender</th>\n",
       "      <th>Age</th>\n",
       "      <th>Age Group</th>\n",
       "      <th>Laptop Model</th>\n",
       "      <th>Brand</th>\n",
       "      <th>Price ($)</th>\n",
       "      <th>Discount ($)</th>\n",
       "      <th>Month</th>\n",
       "      <th>Year</th>\n",
       "      <th>Final Price ($)</th>\n",
       "      <th>Rating</th>\n",
       "      <th>State</th>\n",
       "      <th>Order Count</th>\n",
       "      <th>Link</th>\n",
       "    </tr>\n",
       "  </thead>\n",
       "  <tbody>\n",
       "    <tr>\n",
       "      <th>0</th>\n",
       "      <td>1</td>\n",
       "      <td>83c03410-1e67-48c2-bde3-227c0fe60958</td>\n",
       "      <td>e4ccb009-f90c-443f-bfaf-b43e90a55ac2</td>\n",
       "      <td>Male</td>\n",
       "      <td>28</td>\n",
       "      <td>26-35</td>\n",
       "      <td>Microsoft Surface Laptop month</td>\n",
       "      <td>Microsoft</td>\n",
       "      <td>550.02</td>\n",
       "      <td>118.76</td>\n",
       "      <td>4</td>\n",
       "      <td>2020</td>\n",
       "      <td>431.26</td>\n",
       "      <td>3.7</td>\n",
       "      <td>Connecticut</td>\n",
       "      <td>1</td>\n",
       "      <td>www.newegg.com</td>\n",
       "    </tr>\n",
       "    <tr>\n",
       "      <th>1</th>\n",
       "      <td>2</td>\n",
       "      <td>bd088420-1f97-45e6-989f-f4e4e0c8476b</td>\n",
       "      <td>4e97997f-34af-47da-9146-8f4dd3576716</td>\n",
       "      <td>Male</td>\n",
       "      <td>28</td>\n",
       "      <td>26-35</td>\n",
       "      <td>Microsoft Surface Laptop mind</td>\n",
       "      <td>Microsoft</td>\n",
       "      <td>1680.99</td>\n",
       "      <td>57.95</td>\n",
       "      <td>2</td>\n",
       "      <td>2022</td>\n",
       "      <td>1623.04</td>\n",
       "      <td>3.8</td>\n",
       "      <td>North Carolina</td>\n",
       "      <td>1</td>\n",
       "      <td>www.newegg.com</td>\n",
       "    </tr>\n",
       "    <tr>\n",
       "      <th>2</th>\n",
       "      <td>3</td>\n",
       "      <td>747c916b-bbf2-4dc5-9faa-59fa11babe0b</td>\n",
       "      <td>a88a9f25-9f60-40fa-9ec9-037c5941caca</td>\n",
       "      <td>Male</td>\n",
       "      <td>28</td>\n",
       "      <td>26-35</td>\n",
       "      <td>MacBook Air miss</td>\n",
       "      <td>MacBook</td>\n",
       "      <td>1622.49</td>\n",
       "      <td>229.00</td>\n",
       "      <td>12</td>\n",
       "      <td>2022</td>\n",
       "      <td>1393.49</td>\n",
       "      <td>4.3</td>\n",
       "      <td>Iowa</td>\n",
       "      <td>1</td>\n",
       "      <td>www.newegg.com</td>\n",
       "    </tr>\n",
       "    <tr>\n",
       "      <th>3</th>\n",
       "      <td>4</td>\n",
       "      <td>5ef09850-671c-4e7d-b198-2f74c14abc15</td>\n",
       "      <td>28415632-6953-4e4f-b233-7e98e2f35150</td>\n",
       "      <td>Male</td>\n",
       "      <td>28</td>\n",
       "      <td>26-35</td>\n",
       "      <td>ASUS ROG there</td>\n",
       "      <td>ASUS</td>\n",
       "      <td>1056.38</td>\n",
       "      <td>267.33</td>\n",
       "      <td>3</td>\n",
       "      <td>2021</td>\n",
       "      <td>789.05</td>\n",
       "      <td>4.5</td>\n",
       "      <td>Michigan</td>\n",
       "      <td>1</td>\n",
       "      <td>www.newegg.com</td>\n",
       "    </tr>\n",
       "    <tr>\n",
       "      <th>4</th>\n",
       "      <td>5</td>\n",
       "      <td>94b495cc-c912-49e5-b052-72b58bf712ca</td>\n",
       "      <td>1cd600f2-3f45-4133-95c1-d450cb602843</td>\n",
       "      <td>Male</td>\n",
       "      <td>28</td>\n",
       "      <td>26-35</td>\n",
       "      <td>Lenovo IdeaPad open</td>\n",
       "      <td>Lenovo</td>\n",
       "      <td>930.63</td>\n",
       "      <td>240.87</td>\n",
       "      <td>2</td>\n",
       "      <td>2019</td>\n",
       "      <td>689.76</td>\n",
       "      <td>3.6</td>\n",
       "      <td>Connecticut</td>\n",
       "      <td>1</td>\n",
       "      <td>www.newegg.com</td>\n",
       "    </tr>\n",
       "    <tr>\n",
       "      <th>5</th>\n",
       "      <td>6</td>\n",
       "      <td>39e35e37-3e25-4d84-88fe-f31bb7cd93f1</td>\n",
       "      <td>c9b8da20-5d4b-4b09-96e4-9b2386507fb4</td>\n",
       "      <td>Male</td>\n",
       "      <td>28</td>\n",
       "      <td>26-35</td>\n",
       "      <td>Lenovo Yoga about</td>\n",
       "      <td>Lenovo</td>\n",
       "      <td>1707.45</td>\n",
       "      <td>251.78</td>\n",
       "      <td>12</td>\n",
       "      <td>2019</td>\n",
       "      <td>1455.67</td>\n",
       "      <td>4.2</td>\n",
       "      <td>Delaware</td>\n",
       "      <td>1</td>\n",
       "      <td>www.newegg.com</td>\n",
       "    </tr>\n",
       "    <tr>\n",
       "      <th>6</th>\n",
       "      <td>7</td>\n",
       "      <td>6fdb5c83-5f60-4924-a0a8-d3c28f67a826</td>\n",
       "      <td>9cb74776-f904-4fa4-a19d-82d5bf6831e9</td>\n",
       "      <td>Male</td>\n",
       "      <td>28</td>\n",
       "      <td>26-35</td>\n",
       "      <td>ASUS ZenBook instead</td>\n",
       "      <td>ASUS</td>\n",
       "      <td>1604.08</td>\n",
       "      <td>257.35</td>\n",
       "      <td>10</td>\n",
       "      <td>2018</td>\n",
       "      <td>1346.73</td>\n",
       "      <td>4.8</td>\n",
       "      <td>Mississippi</td>\n",
       "      <td>1</td>\n",
       "      <td>www.newegg.com</td>\n",
       "    </tr>\n",
       "    <tr>\n",
       "      <th>7</th>\n",
       "      <td>8</td>\n",
       "      <td>a28bf5ba-5828-4c3d-92cd-d53f68f8d824</td>\n",
       "      <td>ef5ecf00-4c36-4b8b-93c7-206401cd9c7e</td>\n",
       "      <td>Male</td>\n",
       "      <td>28</td>\n",
       "      <td>26-35</td>\n",
       "      <td>MacBook Air system</td>\n",
       "      <td>MacBook</td>\n",
       "      <td>1909.14</td>\n",
       "      <td>61.46</td>\n",
       "      <td>4</td>\n",
       "      <td>2022</td>\n",
       "      <td>1847.68</td>\n",
       "      <td>4.7</td>\n",
       "      <td>Colorado</td>\n",
       "      <td>1</td>\n",
       "      <td>www.newegg.com</td>\n",
       "    </tr>\n",
       "    <tr>\n",
       "      <th>8</th>\n",
       "      <td>9</td>\n",
       "      <td>48256b7a-5192-427d-9060-ba00585e8279</td>\n",
       "      <td>1f465dd0-dc27-46f6-b5e7-e3ce0043cbbb</td>\n",
       "      <td>Male</td>\n",
       "      <td>28</td>\n",
       "      <td>26-35</td>\n",
       "      <td>Acer Aspire happen</td>\n",
       "      <td>Acer</td>\n",
       "      <td>2232.97</td>\n",
       "      <td>145.03</td>\n",
       "      <td>8</td>\n",
       "      <td>2021</td>\n",
       "      <td>2087.94</td>\n",
       "      <td>4.5</td>\n",
       "      <td>Mississippi</td>\n",
       "      <td>1</td>\n",
       "      <td>www.newegg.com</td>\n",
       "    </tr>\n",
       "    <tr>\n",
       "      <th>9</th>\n",
       "      <td>10</td>\n",
       "      <td>d74e3676-87fe-4527-a54f-dfd8e1db5271</td>\n",
       "      <td>35effce5-1beb-4642-b2cc-565d65fa5c91</td>\n",
       "      <td>Male</td>\n",
       "      <td>28</td>\n",
       "      <td>26-35</td>\n",
       "      <td>HP Omen final</td>\n",
       "      <td>HP</td>\n",
       "      <td>1210.54</td>\n",
       "      <td>217.54</td>\n",
       "      <td>12</td>\n",
       "      <td>2021</td>\n",
       "      <td>993.00</td>\n",
       "      <td>4.9</td>\n",
       "      <td>Tennessee</td>\n",
       "      <td>1</td>\n",
       "      <td>www.newegg.com</td>\n",
       "    </tr>\n",
       "  </tbody>\n",
       "</table>\n",
       "</div>"
      ],
      "text/plain": [
       "   Order ID                           Customer ID  \\\n",
       "0         1  83c03410-1e67-48c2-bde3-227c0fe60958   \n",
       "1         2  bd088420-1f97-45e6-989f-f4e4e0c8476b   \n",
       "2         3  747c916b-bbf2-4dc5-9faa-59fa11babe0b   \n",
       "3         4  5ef09850-671c-4e7d-b198-2f74c14abc15   \n",
       "4         5  94b495cc-c912-49e5-b052-72b58bf712ca   \n",
       "5         6  39e35e37-3e25-4d84-88fe-f31bb7cd93f1   \n",
       "6         7  6fdb5c83-5f60-4924-a0a8-d3c28f67a826   \n",
       "7         8  a28bf5ba-5828-4c3d-92cd-d53f68f8d824   \n",
       "8         9  48256b7a-5192-427d-9060-ba00585e8279   \n",
       "9        10  d74e3676-87fe-4527-a54f-dfd8e1db5271   \n",
       "\n",
       "                   Original Customer ID Gender  Age Age Group  \\\n",
       "0  e4ccb009-f90c-443f-bfaf-b43e90a55ac2   Male   28     26-35   \n",
       "1  4e97997f-34af-47da-9146-8f4dd3576716   Male   28     26-35   \n",
       "2  a88a9f25-9f60-40fa-9ec9-037c5941caca   Male   28     26-35   \n",
       "3  28415632-6953-4e4f-b233-7e98e2f35150   Male   28     26-35   \n",
       "4  1cd600f2-3f45-4133-95c1-d450cb602843   Male   28     26-35   \n",
       "5  c9b8da20-5d4b-4b09-96e4-9b2386507fb4   Male   28     26-35   \n",
       "6  9cb74776-f904-4fa4-a19d-82d5bf6831e9   Male   28     26-35   \n",
       "7  ef5ecf00-4c36-4b8b-93c7-206401cd9c7e   Male   28     26-35   \n",
       "8  1f465dd0-dc27-46f6-b5e7-e3ce0043cbbb   Male   28     26-35   \n",
       "9  35effce5-1beb-4642-b2cc-565d65fa5c91   Male   28     26-35   \n",
       "\n",
       "                     Laptop Model      Brand  Price ($)  Discount ($)  Month  \\\n",
       "0  Microsoft Surface Laptop month  Microsoft     550.02        118.76      4   \n",
       "1   Microsoft Surface Laptop mind  Microsoft    1680.99         57.95      2   \n",
       "2                MacBook Air miss    MacBook    1622.49        229.00     12   \n",
       "3                  ASUS ROG there       ASUS    1056.38        267.33      3   \n",
       "4             Lenovo IdeaPad open     Lenovo     930.63        240.87      2   \n",
       "5               Lenovo Yoga about     Lenovo    1707.45        251.78     12   \n",
       "6            ASUS ZenBook instead       ASUS    1604.08        257.35     10   \n",
       "7              MacBook Air system    MacBook    1909.14         61.46      4   \n",
       "8              Acer Aspire happen       Acer    2232.97        145.03      8   \n",
       "9                   HP Omen final         HP    1210.54        217.54     12   \n",
       "\n",
       "   Year  Final Price ($)  Rating           State  Order Count            Link  \n",
       "0  2020           431.26     3.7     Connecticut            1  www.newegg.com  \n",
       "1  2022          1623.04     3.8  North Carolina            1  www.newegg.com  \n",
       "2  2022          1393.49     4.3            Iowa            1  www.newegg.com  \n",
       "3  2021           789.05     4.5        Michigan            1  www.newegg.com  \n",
       "4  2019           689.76     3.6     Connecticut            1  www.newegg.com  \n",
       "5  2019          1455.67     4.2        Delaware            1  www.newegg.com  \n",
       "6  2018          1346.73     4.8     Mississippi            1  www.newegg.com  \n",
       "7  2022          1847.68     4.7        Colorado            1  www.newegg.com  \n",
       "8  2021          2087.94     4.5     Mississippi            1  www.newegg.com  \n",
       "9  2021           993.00     4.9       Tennessee            1  www.newegg.com  "
      ]
     },
     "execution_count": 4,
     "metadata": {},
     "output_type": "execute_result"
    }
   ],
   "source": [
    "df.head(10)"
   ]
  },
  {
   "cell_type": "code",
   "execution_count": 5,
   "id": "15f587a0",
   "metadata": {},
   "outputs": [
    {
     "data": {
      "text/html": [
       "<div>\n",
       "<style scoped>\n",
       "    .dataframe tbody tr th:only-of-type {\n",
       "        vertical-align: middle;\n",
       "    }\n",
       "\n",
       "    .dataframe tbody tr th {\n",
       "        vertical-align: top;\n",
       "    }\n",
       "\n",
       "    .dataframe thead th {\n",
       "        text-align: right;\n",
       "    }\n",
       "</style>\n",
       "<table border=\"1\" class=\"dataframe\">\n",
       "  <thead>\n",
       "    <tr style=\"text-align: right;\">\n",
       "      <th></th>\n",
       "      <th>Order ID</th>\n",
       "      <th>Customer ID</th>\n",
       "      <th>Original Customer ID</th>\n",
       "      <th>Gender</th>\n",
       "      <th>Age</th>\n",
       "      <th>Age Group</th>\n",
       "      <th>Laptop Model</th>\n",
       "      <th>Brand</th>\n",
       "      <th>Price ($)</th>\n",
       "      <th>Discount ($)</th>\n",
       "      <th>Month</th>\n",
       "      <th>Year</th>\n",
       "      <th>Final Price ($)</th>\n",
       "      <th>Rating</th>\n",
       "      <th>State</th>\n",
       "      <th>Order Count</th>\n",
       "      <th>Link</th>\n",
       "    </tr>\n",
       "  </thead>\n",
       "  <tbody>\n",
       "    <tr>\n",
       "      <th>14990</th>\n",
       "      <td>14991</td>\n",
       "      <td>23e90420-d941-4514-8d0a-5c9a39ba3f38</td>\n",
       "      <td>de2a8e89-7963-4e5e-a416-0951b6484d4a</td>\n",
       "      <td>Female</td>\n",
       "      <td>44</td>\n",
       "      <td>36-45</td>\n",
       "      <td>ASUS ZenBook statement</td>\n",
       "      <td>ASUS</td>\n",
       "      <td>967.33</td>\n",
       "      <td>149.65</td>\n",
       "      <td>3</td>\n",
       "      <td>2022</td>\n",
       "      <td>817.68</td>\n",
       "      <td>3.5</td>\n",
       "      <td>Georgia</td>\n",
       "      <td>1</td>\n",
       "      <td>www.newegg.com</td>\n",
       "    </tr>\n",
       "    <tr>\n",
       "      <th>14991</th>\n",
       "      <td>14992</td>\n",
       "      <td>3a13bd4d-f50a-4e9c-a764-6d65d08b153c</td>\n",
       "      <td>6c7af26d-7aa5-431d-b4bf-986add8ca1c5</td>\n",
       "      <td>Male</td>\n",
       "      <td>22</td>\n",
       "      <td>18-25</td>\n",
       "      <td>HP Envy under</td>\n",
       "      <td>HP</td>\n",
       "      <td>1166.16</td>\n",
       "      <td>134.54</td>\n",
       "      <td>4</td>\n",
       "      <td>2021</td>\n",
       "      <td>1031.62</td>\n",
       "      <td>4.8</td>\n",
       "      <td>South Carolina</td>\n",
       "      <td>1</td>\n",
       "      <td>www.newegg.com</td>\n",
       "    </tr>\n",
       "    <tr>\n",
       "      <th>14992</th>\n",
       "      <td>14993</td>\n",
       "      <td>7f5d3c6b-d7f6-451c-8d87-8053d3a62b46</td>\n",
       "      <td>6eb2f615-72b6-4219-adea-d7620b5bb6b1</td>\n",
       "      <td>Male</td>\n",
       "      <td>34</td>\n",
       "      <td>26-35</td>\n",
       "      <td>Dell Precision always</td>\n",
       "      <td>Dell</td>\n",
       "      <td>1806.90</td>\n",
       "      <td>138.03</td>\n",
       "      <td>12</td>\n",
       "      <td>2020</td>\n",
       "      <td>1668.87</td>\n",
       "      <td>4.7</td>\n",
       "      <td>Missouri</td>\n",
       "      <td>1</td>\n",
       "      <td>www.newegg.com</td>\n",
       "    </tr>\n",
       "    <tr>\n",
       "      <th>14993</th>\n",
       "      <td>14994</td>\n",
       "      <td>a2d735e0-b4a9-4b24-a0dd-175b03f5ac9e</td>\n",
       "      <td>7de5d91d-caaa-475d-915f-e0703b50a443</td>\n",
       "      <td>Male</td>\n",
       "      <td>31</td>\n",
       "      <td>26-35</td>\n",
       "      <td>Dell Inspiron right</td>\n",
       "      <td>Dell</td>\n",
       "      <td>1569.13</td>\n",
       "      <td>216.61</td>\n",
       "      <td>11</td>\n",
       "      <td>2020</td>\n",
       "      <td>1352.52</td>\n",
       "      <td>4.6</td>\n",
       "      <td>Hawaii</td>\n",
       "      <td>1</td>\n",
       "      <td>www.newegg.com</td>\n",
       "    </tr>\n",
       "    <tr>\n",
       "      <th>14994</th>\n",
       "      <td>14995</td>\n",
       "      <td>bab790ad-b0f0-4e1b-bb41-1ba888ede6e7</td>\n",
       "      <td>808e9215-80da-4962-9532-1bcfc7995177</td>\n",
       "      <td>Male</td>\n",
       "      <td>19</td>\n",
       "      <td>18-25</td>\n",
       "      <td>ASUS ZenBook eye</td>\n",
       "      <td>ASUS</td>\n",
       "      <td>2003.06</td>\n",
       "      <td>175.94</td>\n",
       "      <td>11</td>\n",
       "      <td>2022</td>\n",
       "      <td>1827.12</td>\n",
       "      <td>4.8</td>\n",
       "      <td>North Dakota</td>\n",
       "      <td>1</td>\n",
       "      <td>www.newegg.com</td>\n",
       "    </tr>\n",
       "    <tr>\n",
       "      <th>14995</th>\n",
       "      <td>14996</td>\n",
       "      <td>de13d46f-f73f-4ca5-a778-a579b00eeda3</td>\n",
       "      <td>92cbacc2-2fff-4018-be1b-512ea7ac486a</td>\n",
       "      <td>Male</td>\n",
       "      <td>26</td>\n",
       "      <td>26-35</td>\n",
       "      <td>Acer Aspire final</td>\n",
       "      <td>Acer</td>\n",
       "      <td>2085.08</td>\n",
       "      <td>116.98</td>\n",
       "      <td>6</td>\n",
       "      <td>2021</td>\n",
       "      <td>1968.10</td>\n",
       "      <td>4.6</td>\n",
       "      <td>Connecticut</td>\n",
       "      <td>1</td>\n",
       "      <td>www.newegg.com</td>\n",
       "    </tr>\n",
       "    <tr>\n",
       "      <th>14996</th>\n",
       "      <td>14997</td>\n",
       "      <td>77d1b1c3-475c-4bf2-aecd-e5b318be9fdf</td>\n",
       "      <td>8e043506-8a6a-48ef-b0b9-7b13aa7c5841</td>\n",
       "      <td>Male</td>\n",
       "      <td>33</td>\n",
       "      <td>26-35</td>\n",
       "      <td>Lenovo Legion cause</td>\n",
       "      <td>Lenovo</td>\n",
       "      <td>915.72</td>\n",
       "      <td>116.51</td>\n",
       "      <td>8</td>\n",
       "      <td>2019</td>\n",
       "      <td>799.21</td>\n",
       "      <td>4.0</td>\n",
       "      <td>Michigan</td>\n",
       "      <td>1</td>\n",
       "      <td>www.newegg.com</td>\n",
       "    </tr>\n",
       "    <tr>\n",
       "      <th>14997</th>\n",
       "      <td>14998</td>\n",
       "      <td>ddb8f51e-8810-4420-bdf8-b08a5c57aaa5</td>\n",
       "      <td>19ca4080-6f07-4d30-a23f-22222f3deea5</td>\n",
       "      <td>Male</td>\n",
       "      <td>27</td>\n",
       "      <td>26-35</td>\n",
       "      <td>MacBook Pro campaign</td>\n",
       "      <td>MacBook</td>\n",
       "      <td>2259.19</td>\n",
       "      <td>81.38</td>\n",
       "      <td>3</td>\n",
       "      <td>2018</td>\n",
       "      <td>2177.81</td>\n",
       "      <td>4.8</td>\n",
       "      <td>Tennessee</td>\n",
       "      <td>1</td>\n",
       "      <td>www.newegg.com</td>\n",
       "    </tr>\n",
       "    <tr>\n",
       "      <th>14998</th>\n",
       "      <td>14999</td>\n",
       "      <td>69b35d5f-1a63-44c6-a94c-42f87511f461</td>\n",
       "      <td>5d5776a6-8864-495a-800b-505d75381e8a</td>\n",
       "      <td>Female</td>\n",
       "      <td>31</td>\n",
       "      <td>26-35</td>\n",
       "      <td>Dell XPS sit</td>\n",
       "      <td>Dell</td>\n",
       "      <td>1477.08</td>\n",
       "      <td>214.74</td>\n",
       "      <td>8</td>\n",
       "      <td>2021</td>\n",
       "      <td>1262.34</td>\n",
       "      <td>4.5</td>\n",
       "      <td>Delaware</td>\n",
       "      <td>1</td>\n",
       "      <td>www.newegg.com</td>\n",
       "    </tr>\n",
       "    <tr>\n",
       "      <th>14999</th>\n",
       "      <td>15000</td>\n",
       "      <td>746074b9-2c4f-44a9-8b1a-c1c5f3e28d54</td>\n",
       "      <td>744d461a-6873-47c1-90a1-a445fb6ef14f</td>\n",
       "      <td>Male</td>\n",
       "      <td>30</td>\n",
       "      <td>26-35</td>\n",
       "      <td>HP EliteBook begin</td>\n",
       "      <td>HP</td>\n",
       "      <td>1366.30</td>\n",
       "      <td>236.74</td>\n",
       "      <td>2</td>\n",
       "      <td>2020</td>\n",
       "      <td>1129.56</td>\n",
       "      <td>4.3</td>\n",
       "      <td>Tennessee</td>\n",
       "      <td>1</td>\n",
       "      <td>www.newegg.com</td>\n",
       "    </tr>\n",
       "  </tbody>\n",
       "</table>\n",
       "</div>"
      ],
      "text/plain": [
       "       Order ID                           Customer ID  \\\n",
       "14990     14991  23e90420-d941-4514-8d0a-5c9a39ba3f38   \n",
       "14991     14992  3a13bd4d-f50a-4e9c-a764-6d65d08b153c   \n",
       "14992     14993  7f5d3c6b-d7f6-451c-8d87-8053d3a62b46   \n",
       "14993     14994  a2d735e0-b4a9-4b24-a0dd-175b03f5ac9e   \n",
       "14994     14995  bab790ad-b0f0-4e1b-bb41-1ba888ede6e7   \n",
       "14995     14996  de13d46f-f73f-4ca5-a778-a579b00eeda3   \n",
       "14996     14997  77d1b1c3-475c-4bf2-aecd-e5b318be9fdf   \n",
       "14997     14998  ddb8f51e-8810-4420-bdf8-b08a5c57aaa5   \n",
       "14998     14999  69b35d5f-1a63-44c6-a94c-42f87511f461   \n",
       "14999     15000  746074b9-2c4f-44a9-8b1a-c1c5f3e28d54   \n",
       "\n",
       "                       Original Customer ID  Gender  Age Age Group  \\\n",
       "14990  de2a8e89-7963-4e5e-a416-0951b6484d4a  Female   44     36-45   \n",
       "14991  6c7af26d-7aa5-431d-b4bf-986add8ca1c5    Male   22     18-25   \n",
       "14992  6eb2f615-72b6-4219-adea-d7620b5bb6b1    Male   34     26-35   \n",
       "14993  7de5d91d-caaa-475d-915f-e0703b50a443    Male   31     26-35   \n",
       "14994  808e9215-80da-4962-9532-1bcfc7995177    Male   19     18-25   \n",
       "14995  92cbacc2-2fff-4018-be1b-512ea7ac486a    Male   26     26-35   \n",
       "14996  8e043506-8a6a-48ef-b0b9-7b13aa7c5841    Male   33     26-35   \n",
       "14997  19ca4080-6f07-4d30-a23f-22222f3deea5    Male   27     26-35   \n",
       "14998  5d5776a6-8864-495a-800b-505d75381e8a  Female   31     26-35   \n",
       "14999  744d461a-6873-47c1-90a1-a445fb6ef14f    Male   30     26-35   \n",
       "\n",
       "                 Laptop Model    Brand  Price ($)  Discount ($)  Month  Year  \\\n",
       "14990  ASUS ZenBook statement     ASUS     967.33        149.65      3  2022   \n",
       "14991           HP Envy under       HP    1166.16        134.54      4  2021   \n",
       "14992   Dell Precision always     Dell    1806.90        138.03     12  2020   \n",
       "14993     Dell Inspiron right     Dell    1569.13        216.61     11  2020   \n",
       "14994        ASUS ZenBook eye     ASUS    2003.06        175.94     11  2022   \n",
       "14995       Acer Aspire final     Acer    2085.08        116.98      6  2021   \n",
       "14996     Lenovo Legion cause   Lenovo     915.72        116.51      8  2019   \n",
       "14997    MacBook Pro campaign  MacBook    2259.19         81.38      3  2018   \n",
       "14998            Dell XPS sit     Dell    1477.08        214.74      8  2021   \n",
       "14999      HP EliteBook begin       HP    1366.30        236.74      2  2020   \n",
       "\n",
       "       Final Price ($)  Rating           State  Order Count            Link  \n",
       "14990           817.68     3.5         Georgia            1  www.newegg.com  \n",
       "14991          1031.62     4.8  South Carolina            1  www.newegg.com  \n",
       "14992          1668.87     4.7        Missouri            1  www.newegg.com  \n",
       "14993          1352.52     4.6          Hawaii            1  www.newegg.com  \n",
       "14994          1827.12     4.8    North Dakota            1  www.newegg.com  \n",
       "14995          1968.10     4.6     Connecticut            1  www.newegg.com  \n",
       "14996           799.21     4.0        Michigan            1  www.newegg.com  \n",
       "14997          2177.81     4.8       Tennessee            1  www.newegg.com  \n",
       "14998          1262.34     4.5        Delaware            1  www.newegg.com  \n",
       "14999          1129.56     4.3       Tennessee            1  www.newegg.com  "
      ]
     },
     "execution_count": 5,
     "metadata": {},
     "output_type": "execute_result"
    }
   ],
   "source": [
    "df.tail(10)"
   ]
  },
  {
   "cell_type": "code",
   "execution_count": 6,
   "id": "8db5f1bc",
   "metadata": {},
   "outputs": [
    {
     "data": {
      "text/plain": [
       "(15000, 17)"
      ]
     },
     "execution_count": 6,
     "metadata": {},
     "output_type": "execute_result"
    }
   ],
   "source": [
    "df.shape"
   ]
  },
  {
   "cell_type": "code",
   "execution_count": 7,
   "id": "b86e4371",
   "metadata": {},
   "outputs": [],
   "source": [
    "df.drop(columns ='Original Customer ID',inplace=True)"
   ]
  },
  {
   "cell_type": "code",
   "execution_count": 8,
   "id": "ec4b26ec",
   "metadata": {},
   "outputs": [
    {
     "name": "stdout",
     "output_type": "stream",
     "text": [
      "<class 'pandas.core.frame.DataFrame'>\n",
      "RangeIndex: 15000 entries, 0 to 14999\n",
      "Data columns (total 16 columns):\n",
      " #   Column           Non-Null Count  Dtype  \n",
      "---  ------           --------------  -----  \n",
      " 0   Order ID         15000 non-null  int64  \n",
      " 1   Customer ID      15000 non-null  object \n",
      " 2   Gender           15000 non-null  object \n",
      " 3   Age              15000 non-null  int64  \n",
      " 4   Age Group        15000 non-null  object \n",
      " 5   Laptop Model     15000 non-null  object \n",
      " 6   Brand            15000 non-null  object \n",
      " 7   Price ($)        15000 non-null  float64\n",
      " 8   Discount ($)     14000 non-null  float64\n",
      " 9   Month            15000 non-null  int64  \n",
      " 10  Year             15000 non-null  int64  \n",
      " 11  Final Price ($)  15000 non-null  float64\n",
      " 12  Rating           14000 non-null  float64\n",
      " 13  State            15000 non-null  object \n",
      " 14  Order Count      15000 non-null  int64  \n",
      " 15  Link             15000 non-null  object \n",
      "dtypes: float64(4), int64(5), object(7)\n",
      "memory usage: 1.8+ MB\n"
     ]
    }
   ],
   "source": [
    "df.info()"
   ]
  },
  {
   "cell_type": "code",
   "execution_count": 9,
   "id": "3066a062",
   "metadata": {},
   "outputs": [
    {
     "data": {
      "text/plain": [
       "Order ID              0\n",
       "Customer ID           0\n",
       "Gender                0\n",
       "Age                   0\n",
       "Age Group             0\n",
       "Laptop Model          0\n",
       "Brand                 0\n",
       "Price ($)             0\n",
       "Discount ($)       1000\n",
       "Month                 0\n",
       "Year                  0\n",
       "Final Price ($)       0\n",
       "Rating             1000\n",
       "State                 0\n",
       "Order Count           0\n",
       "Link                  0\n",
       "dtype: int64"
      ]
     },
     "execution_count": 9,
     "metadata": {},
     "output_type": "execute_result"
    }
   ],
   "source": [
    "df.isnull().sum()"
   ]
  },
  {
   "cell_type": "code",
   "execution_count": 10,
   "id": "4c089497",
   "metadata": {},
   "outputs": [],
   "source": [
    "df['Final Price ($)']=df['Final Price ($)'].astype('int')"
   ]
  },
  {
   "cell_type": "code",
   "execution_count": 11,
   "id": "dc4c4563",
   "metadata": {},
   "outputs": [],
   "source": [
    "df['Price ($)']=df['Price ($)'].astype('int')"
   ]
  },
  {
   "cell_type": "code",
   "execution_count": 12,
   "id": "a7f56645",
   "metadata": {},
   "outputs": [
    {
     "name": "stdout",
     "output_type": "stream",
     "text": [
      "<class 'pandas.core.frame.DataFrame'>\n",
      "RangeIndex: 15000 entries, 0 to 14999\n",
      "Data columns (total 16 columns):\n",
      " #   Column           Non-Null Count  Dtype  \n",
      "---  ------           --------------  -----  \n",
      " 0   Order ID         15000 non-null  int64  \n",
      " 1   Customer ID      15000 non-null  object \n",
      " 2   Gender           15000 non-null  object \n",
      " 3   Age              15000 non-null  int64  \n",
      " 4   Age Group        15000 non-null  object \n",
      " 5   Laptop Model     15000 non-null  object \n",
      " 6   Brand            15000 non-null  object \n",
      " 7   Price ($)        15000 non-null  int32  \n",
      " 8   Discount ($)     14000 non-null  float64\n",
      " 9   Month            15000 non-null  int64  \n",
      " 10  Year             15000 non-null  int64  \n",
      " 11  Final Price ($)  15000 non-null  int32  \n",
      " 12  Rating           14000 non-null  float64\n",
      " 13  State            15000 non-null  object \n",
      " 14  Order Count      15000 non-null  int64  \n",
      " 15  Link             15000 non-null  object \n",
      "dtypes: float64(2), int32(2), int64(5), object(7)\n",
      "memory usage: 1.7+ MB\n"
     ]
    }
   ],
   "source": [
    "df.info()"
   ]
  },
  {
   "cell_type": "code",
   "execution_count": 13,
   "id": "67ef222e",
   "metadata": {},
   "outputs": [
    {
     "data": {
      "text/html": [
       "<div>\n",
       "<style scoped>\n",
       "    .dataframe tbody tr th:only-of-type {\n",
       "        vertical-align: middle;\n",
       "    }\n",
       "\n",
       "    .dataframe tbody tr th {\n",
       "        vertical-align: top;\n",
       "    }\n",
       "\n",
       "    .dataframe thead th {\n",
       "        text-align: right;\n",
       "    }\n",
       "</style>\n",
       "<table border=\"1\" class=\"dataframe\">\n",
       "  <thead>\n",
       "    <tr style=\"text-align: right;\">\n",
       "      <th></th>\n",
       "      <th>Order ID</th>\n",
       "      <th>Customer ID</th>\n",
       "      <th>Gender</th>\n",
       "      <th>Age</th>\n",
       "      <th>Age Group</th>\n",
       "      <th>Laptop Model</th>\n",
       "      <th>Brand</th>\n",
       "      <th>Price ($)</th>\n",
       "      <th>Discount ($)</th>\n",
       "      <th>Month</th>\n",
       "      <th>Year</th>\n",
       "      <th>Final Price ($)</th>\n",
       "      <th>Rating</th>\n",
       "      <th>State</th>\n",
       "      <th>Order Count</th>\n",
       "      <th>Link</th>\n",
       "    </tr>\n",
       "  </thead>\n",
       "  <tbody>\n",
       "    <tr>\n",
       "      <th>0</th>\n",
       "      <td>1</td>\n",
       "      <td>83c03410-1e67-48c2-bde3-227c0fe60958</td>\n",
       "      <td>Male</td>\n",
       "      <td>28</td>\n",
       "      <td>26-35</td>\n",
       "      <td>Microsoft Surface Laptop month</td>\n",
       "      <td>Microsoft</td>\n",
       "      <td>550</td>\n",
       "      <td>118.76</td>\n",
       "      <td>4</td>\n",
       "      <td>2020</td>\n",
       "      <td>431</td>\n",
       "      <td>3.7</td>\n",
       "      <td>Connecticut</td>\n",
       "      <td>1</td>\n",
       "      <td>www.newegg.com</td>\n",
       "    </tr>\n",
       "    <tr>\n",
       "      <th>1</th>\n",
       "      <td>2</td>\n",
       "      <td>bd088420-1f97-45e6-989f-f4e4e0c8476b</td>\n",
       "      <td>Male</td>\n",
       "      <td>28</td>\n",
       "      <td>26-35</td>\n",
       "      <td>Microsoft Surface Laptop mind</td>\n",
       "      <td>Microsoft</td>\n",
       "      <td>1680</td>\n",
       "      <td>57.95</td>\n",
       "      <td>2</td>\n",
       "      <td>2022</td>\n",
       "      <td>1623</td>\n",
       "      <td>3.8</td>\n",
       "      <td>North Carolina</td>\n",
       "      <td>1</td>\n",
       "      <td>www.newegg.com</td>\n",
       "    </tr>\n",
       "    <tr>\n",
       "      <th>2</th>\n",
       "      <td>3</td>\n",
       "      <td>747c916b-bbf2-4dc5-9faa-59fa11babe0b</td>\n",
       "      <td>Male</td>\n",
       "      <td>28</td>\n",
       "      <td>26-35</td>\n",
       "      <td>MacBook Air miss</td>\n",
       "      <td>MacBook</td>\n",
       "      <td>1622</td>\n",
       "      <td>229.00</td>\n",
       "      <td>12</td>\n",
       "      <td>2022</td>\n",
       "      <td>1393</td>\n",
       "      <td>4.3</td>\n",
       "      <td>Iowa</td>\n",
       "      <td>1</td>\n",
       "      <td>www.newegg.com</td>\n",
       "    </tr>\n",
       "    <tr>\n",
       "      <th>3</th>\n",
       "      <td>4</td>\n",
       "      <td>5ef09850-671c-4e7d-b198-2f74c14abc15</td>\n",
       "      <td>Male</td>\n",
       "      <td>28</td>\n",
       "      <td>26-35</td>\n",
       "      <td>ASUS ROG there</td>\n",
       "      <td>ASUS</td>\n",
       "      <td>1056</td>\n",
       "      <td>267.33</td>\n",
       "      <td>3</td>\n",
       "      <td>2021</td>\n",
       "      <td>789</td>\n",
       "      <td>4.5</td>\n",
       "      <td>Michigan</td>\n",
       "      <td>1</td>\n",
       "      <td>www.newegg.com</td>\n",
       "    </tr>\n",
       "    <tr>\n",
       "      <th>4</th>\n",
       "      <td>5</td>\n",
       "      <td>94b495cc-c912-49e5-b052-72b58bf712ca</td>\n",
       "      <td>Male</td>\n",
       "      <td>28</td>\n",
       "      <td>26-35</td>\n",
       "      <td>Lenovo IdeaPad open</td>\n",
       "      <td>Lenovo</td>\n",
       "      <td>930</td>\n",
       "      <td>240.87</td>\n",
       "      <td>2</td>\n",
       "      <td>2019</td>\n",
       "      <td>689</td>\n",
       "      <td>3.6</td>\n",
       "      <td>Connecticut</td>\n",
       "      <td>1</td>\n",
       "      <td>www.newegg.com</td>\n",
       "    </tr>\n",
       "  </tbody>\n",
       "</table>\n",
       "</div>"
      ],
      "text/plain": [
       "   Order ID                           Customer ID Gender  Age Age Group  \\\n",
       "0         1  83c03410-1e67-48c2-bde3-227c0fe60958   Male   28     26-35   \n",
       "1         2  bd088420-1f97-45e6-989f-f4e4e0c8476b   Male   28     26-35   \n",
       "2         3  747c916b-bbf2-4dc5-9faa-59fa11babe0b   Male   28     26-35   \n",
       "3         4  5ef09850-671c-4e7d-b198-2f74c14abc15   Male   28     26-35   \n",
       "4         5  94b495cc-c912-49e5-b052-72b58bf712ca   Male   28     26-35   \n",
       "\n",
       "                     Laptop Model      Brand  Price ($)  Discount ($)  Month  \\\n",
       "0  Microsoft Surface Laptop month  Microsoft        550        118.76      4   \n",
       "1   Microsoft Surface Laptop mind  Microsoft       1680         57.95      2   \n",
       "2                MacBook Air miss    MacBook       1622        229.00     12   \n",
       "3                  ASUS ROG there       ASUS       1056        267.33      3   \n",
       "4             Lenovo IdeaPad open     Lenovo        930        240.87      2   \n",
       "\n",
       "   Year  Final Price ($)  Rating           State  Order Count            Link  \n",
       "0  2020              431     3.7     Connecticut            1  www.newegg.com  \n",
       "1  2022             1623     3.8  North Carolina            1  www.newegg.com  \n",
       "2  2022             1393     4.3            Iowa            1  www.newegg.com  \n",
       "3  2021              789     4.5        Michigan            1  www.newegg.com  \n",
       "4  2019              689     3.6     Connecticut            1  www.newegg.com  "
      ]
     },
     "execution_count": 13,
     "metadata": {},
     "output_type": "execute_result"
    }
   ],
   "source": [
    "df.head()"
   ]
  },
  {
   "cell_type": "code",
   "execution_count": 14,
   "id": "c3ada172",
   "metadata": {},
   "outputs": [
    {
     "data": {
      "text/plain": [
       "Index(['Order ID', 'Customer ID', 'Gender', 'Age', 'Age Group', 'Laptop Model',\n",
       "       'Brand', 'Price ($)', 'Discount ($)', 'Month', 'Year',\n",
       "       'Final Price ($)', 'Rating', 'State', 'Order Count', 'Link'],\n",
       "      dtype='object')"
      ]
     },
     "execution_count": 14,
     "metadata": {},
     "output_type": "execute_result"
    }
   ],
   "source": [
    "df.columns"
   ]
  },
  {
   "cell_type": "code",
   "execution_count": 15,
   "id": "7b84d042",
   "metadata": {},
   "outputs": [
    {
     "data": {
      "text/html": [
       "<div>\n",
       "<style scoped>\n",
       "    .dataframe tbody tr th:only-of-type {\n",
       "        vertical-align: middle;\n",
       "    }\n",
       "\n",
       "    .dataframe tbody tr th {\n",
       "        vertical-align: top;\n",
       "    }\n",
       "\n",
       "    .dataframe thead th {\n",
       "        text-align: right;\n",
       "    }\n",
       "</style>\n",
       "<table border=\"1\" class=\"dataframe\">\n",
       "  <thead>\n",
       "    <tr style=\"text-align: right;\">\n",
       "      <th></th>\n",
       "      <th>Order ID</th>\n",
       "      <th>Age</th>\n",
       "      <th>Price ($)</th>\n",
       "      <th>Discount ($)</th>\n",
       "      <th>Month</th>\n",
       "      <th>Year</th>\n",
       "      <th>Final Price ($)</th>\n",
       "      <th>Rating</th>\n",
       "      <th>Order Count</th>\n",
       "    </tr>\n",
       "  </thead>\n",
       "  <tbody>\n",
       "    <tr>\n",
       "      <th>count</th>\n",
       "      <td>15000.000000</td>\n",
       "      <td>15000.000000</td>\n",
       "      <td>15000.000000</td>\n",
       "      <td>14000.000000</td>\n",
       "      <td>15000.000000</td>\n",
       "      <td>15000.000000</td>\n",
       "      <td>15000.000000</td>\n",
       "      <td>14000.000000</td>\n",
       "      <td>15000.0</td>\n",
       "    </tr>\n",
       "    <tr>\n",
       "      <th>mean</th>\n",
       "      <td>7500.500000</td>\n",
       "      <td>29.014200</td>\n",
       "      <td>1492.745600</td>\n",
       "      <td>175.592105</td>\n",
       "      <td>6.515800</td>\n",
       "      <td>2020.497533</td>\n",
       "      <td>1317.404467</td>\n",
       "      <td>4.250550</td>\n",
       "      <td>1.0</td>\n",
       "    </tr>\n",
       "    <tr>\n",
       "      <th>std</th>\n",
       "      <td>4330.271354</td>\n",
       "      <td>6.026443</td>\n",
       "      <td>576.482676</td>\n",
       "      <td>72.283287</td>\n",
       "      <td>3.458692</td>\n",
       "      <td>1.277642</td>\n",
       "      <td>581.182173</td>\n",
       "      <td>0.432506</td>\n",
       "      <td>0.0</td>\n",
       "    </tr>\n",
       "    <tr>\n",
       "      <th>min</th>\n",
       "      <td>1.000000</td>\n",
       "      <td>18.000000</td>\n",
       "      <td>500.000000</td>\n",
       "      <td>50.010000</td>\n",
       "      <td>1.000000</td>\n",
       "      <td>2018.000000</td>\n",
       "      <td>207.000000</td>\n",
       "      <td>3.500000</td>\n",
       "      <td>1.0</td>\n",
       "    </tr>\n",
       "    <tr>\n",
       "      <th>25%</th>\n",
       "      <td>3750.750000</td>\n",
       "      <td>25.000000</td>\n",
       "      <td>992.000000</td>\n",
       "      <td>113.402500</td>\n",
       "      <td>3.000000</td>\n",
       "      <td>2020.000000</td>\n",
       "      <td>820.000000</td>\n",
       "      <td>3.900000</td>\n",
       "      <td>1.0</td>\n",
       "    </tr>\n",
       "    <tr>\n",
       "      <th>50%</th>\n",
       "      <td>7500.500000</td>\n",
       "      <td>28.000000</td>\n",
       "      <td>1487.000000</td>\n",
       "      <td>176.810000</td>\n",
       "      <td>7.000000</td>\n",
       "      <td>2021.000000</td>\n",
       "      <td>1316.000000</td>\n",
       "      <td>4.200000</td>\n",
       "      <td>1.0</td>\n",
       "    </tr>\n",
       "    <tr>\n",
       "      <th>75%</th>\n",
       "      <td>11250.250000</td>\n",
       "      <td>31.000000</td>\n",
       "      <td>1993.000000</td>\n",
       "      <td>238.075000</td>\n",
       "      <td>10.000000</td>\n",
       "      <td>2022.000000</td>\n",
       "      <td>1818.000000</td>\n",
       "      <td>4.600000</td>\n",
       "      <td>1.0</td>\n",
       "    </tr>\n",
       "    <tr>\n",
       "      <th>max</th>\n",
       "      <td>15000.000000</td>\n",
       "      <td>45.000000</td>\n",
       "      <td>2499.000000</td>\n",
       "      <td>299.990000</td>\n",
       "      <td>12.000000</td>\n",
       "      <td>2022.000000</td>\n",
       "      <td>2446.000000</td>\n",
       "      <td>5.000000</td>\n",
       "      <td>1.0</td>\n",
       "    </tr>\n",
       "  </tbody>\n",
       "</table>\n",
       "</div>"
      ],
      "text/plain": [
       "           Order ID           Age     Price ($)  Discount ($)         Month  \\\n",
       "count  15000.000000  15000.000000  15000.000000  14000.000000  15000.000000   \n",
       "mean    7500.500000     29.014200   1492.745600    175.592105      6.515800   \n",
       "std     4330.271354      6.026443    576.482676     72.283287      3.458692   \n",
       "min        1.000000     18.000000    500.000000     50.010000      1.000000   \n",
       "25%     3750.750000     25.000000    992.000000    113.402500      3.000000   \n",
       "50%     7500.500000     28.000000   1487.000000    176.810000      7.000000   \n",
       "75%    11250.250000     31.000000   1993.000000    238.075000     10.000000   \n",
       "max    15000.000000     45.000000   2499.000000    299.990000     12.000000   \n",
       "\n",
       "               Year  Final Price ($)        Rating  Order Count  \n",
       "count  15000.000000     15000.000000  14000.000000      15000.0  \n",
       "mean    2020.497533      1317.404467      4.250550          1.0  \n",
       "std        1.277642       581.182173      0.432506          0.0  \n",
       "min     2018.000000       207.000000      3.500000          1.0  \n",
       "25%     2020.000000       820.000000      3.900000          1.0  \n",
       "50%     2021.000000      1316.000000      4.200000          1.0  \n",
       "75%     2022.000000      1818.000000      4.600000          1.0  \n",
       "max     2022.000000      2446.000000      5.000000          1.0  "
      ]
     },
     "execution_count": 15,
     "metadata": {},
     "output_type": "execute_result"
    }
   ],
   "source": [
    "df.describe()"
   ]
  },
  {
   "cell_type": "code",
   "execution_count": 16,
   "id": "ddfcfde4",
   "metadata": {},
   "outputs": [
    {
     "data": {
      "text/plain": [
       "<Axes: >"
      ]
     },
     "execution_count": 16,
     "metadata": {},
     "output_type": "execute_result"
    },
    {
     "data": {
      "image/png": "[encoded data removed]",
      "text/plain": [
       "<Figure size 640x480 with 2 Axes>"
      ]
     },
     "metadata": {},
     "output_type": "display_data"
    }
   ],
   "source": [
    "sns.heatmap(df.isnull())"
   ]
  },
  {
   "cell_type": "code",
   "execution_count": 17,
   "id": "43d7cffd",
   "metadata": {},
   "outputs": [],
   "source": [
    "df.rename(columns={'Discount ($)':'Discount'},inplace=True)"
   ]
  },
  {
   "cell_type": "code",
   "execution_count": 18,
   "id": "5df65fd2",
   "metadata": {},
   "outputs": [
    {
     "data": {
      "text/plain": [
       "0.06666666666666667"
      ]
     },
     "execution_count": 18,
     "metadata": {},
     "output_type": "execute_result"
    }
   ],
   "source": [
    "df.Discount.isnull().sum()/len(df)"
   ]
  },
  {
   "cell_type": "code",
   "execution_count": 19,
   "id": "ebe41c21",
   "metadata": {},
   "outputs": [],
   "source": [
    "df.rename(columns={'Price ($)':'Price'},inplace=True)"
   ]
  },
  {
   "cell_type": "code",
   "execution_count": 20,
   "id": "8ea06572",
   "metadata": {},
   "outputs": [
    {
     "data": {
      "text/html": [
       "<div>\n",
       "<style scoped>\n",
       "    .dataframe tbody tr th:only-of-type {\n",
       "        vertical-align: middle;\n",
       "    }\n",
       "\n",
       "    .dataframe tbody tr th {\n",
       "        vertical-align: top;\n",
       "    }\n",
       "\n",
       "    .dataframe thead th {\n",
       "        text-align: right;\n",
       "    }\n",
       "</style>\n",
       "<table border=\"1\" class=\"dataframe\">\n",
       "  <thead>\n",
       "    <tr style=\"text-align: right;\">\n",
       "      <th></th>\n",
       "      <th>Order ID</th>\n",
       "      <th>Customer ID</th>\n",
       "      <th>Gender</th>\n",
       "      <th>Age</th>\n",
       "      <th>Age Group</th>\n",
       "      <th>Laptop Model</th>\n",
       "      <th>Brand</th>\n",
       "      <th>Price</th>\n",
       "      <th>Discount</th>\n",
       "      <th>Month</th>\n",
       "      <th>Year</th>\n",
       "      <th>Final_Price</th>\n",
       "      <th>Rating</th>\n",
       "      <th>State</th>\n",
       "      <th>Order Count</th>\n",
       "      <th>Link</th>\n",
       "    </tr>\n",
       "  </thead>\n",
       "  <tbody>\n",
       "    <tr>\n",
       "      <th>0</th>\n",
       "      <td>1</td>\n",
       "      <td>83c03410-1e67-48c2-bde3-227c0fe60958</td>\n",
       "      <td>Male</td>\n",
       "      <td>28</td>\n",
       "      <td>26-35</td>\n",
       "      <td>Microsoft Surface Laptop month</td>\n",
       "      <td>Microsoft</td>\n",
       "      <td>550</td>\n",
       "      <td>118.76</td>\n",
       "      <td>4</td>\n",
       "      <td>2020</td>\n",
       "      <td>431</td>\n",
       "      <td>3.7</td>\n",
       "      <td>Connecticut</td>\n",
       "      <td>1</td>\n",
       "      <td>www.newegg.com</td>\n",
       "    </tr>\n",
       "    <tr>\n",
       "      <th>1</th>\n",
       "      <td>2</td>\n",
       "      <td>bd088420-1f97-45e6-989f-f4e4e0c8476b</td>\n",
       "      <td>Male</td>\n",
       "      <td>28</td>\n",
       "      <td>26-35</td>\n",
       "      <td>Microsoft Surface Laptop mind</td>\n",
       "      <td>Microsoft</td>\n",
       "      <td>1680</td>\n",
       "      <td>57.95</td>\n",
       "      <td>2</td>\n",
       "      <td>2022</td>\n",
       "      <td>1623</td>\n",
       "      <td>3.8</td>\n",
       "      <td>North Carolina</td>\n",
       "      <td>1</td>\n",
       "      <td>www.newegg.com</td>\n",
       "    </tr>\n",
       "    <tr>\n",
       "      <th>2</th>\n",
       "      <td>3</td>\n",
       "      <td>747c916b-bbf2-4dc5-9faa-59fa11babe0b</td>\n",
       "      <td>Male</td>\n",
       "      <td>28</td>\n",
       "      <td>26-35</td>\n",
       "      <td>MacBook Air miss</td>\n",
       "      <td>MacBook</td>\n",
       "      <td>1622</td>\n",
       "      <td>229.00</td>\n",
       "      <td>12</td>\n",
       "      <td>2022</td>\n",
       "      <td>1393</td>\n",
       "      <td>4.3</td>\n",
       "      <td>Iowa</td>\n",
       "      <td>1</td>\n",
       "      <td>www.newegg.com</td>\n",
       "    </tr>\n",
       "    <tr>\n",
       "      <th>3</th>\n",
       "      <td>4</td>\n",
       "      <td>5ef09850-671c-4e7d-b198-2f74c14abc15</td>\n",
       "      <td>Male</td>\n",
       "      <td>28</td>\n",
       "      <td>26-35</td>\n",
       "      <td>ASUS ROG there</td>\n",
       "      <td>ASUS</td>\n",
       "      <td>1056</td>\n",
       "      <td>267.33</td>\n",
       "      <td>3</td>\n",
       "      <td>2021</td>\n",
       "      <td>789</td>\n",
       "      <td>4.5</td>\n",
       "      <td>Michigan</td>\n",
       "      <td>1</td>\n",
       "      <td>www.newegg.com</td>\n",
       "    </tr>\n",
       "    <tr>\n",
       "      <th>4</th>\n",
       "      <td>5</td>\n",
       "      <td>94b495cc-c912-49e5-b052-72b58bf712ca</td>\n",
       "      <td>Male</td>\n",
       "      <td>28</td>\n",
       "      <td>26-35</td>\n",
       "      <td>Lenovo IdeaPad open</td>\n",
       "      <td>Lenovo</td>\n",
       "      <td>930</td>\n",
       "      <td>240.87</td>\n",
       "      <td>2</td>\n",
       "      <td>2019</td>\n",
       "      <td>689</td>\n",
       "      <td>3.6</td>\n",
       "      <td>Connecticut</td>\n",
       "      <td>1</td>\n",
       "      <td>www.newegg.com</td>\n",
       "    </tr>\n",
       "    <tr>\n",
       "      <th>...</th>\n",
       "      <td>...</td>\n",
       "      <td>...</td>\n",
       "      <td>...</td>\n",
       "      <td>...</td>\n",
       "      <td>...</td>\n",
       "      <td>...</td>\n",
       "      <td>...</td>\n",
       "      <td>...</td>\n",
       "      <td>...</td>\n",
       "      <td>...</td>\n",
       "      <td>...</td>\n",
       "      <td>...</td>\n",
       "      <td>...</td>\n",
       "      <td>...</td>\n",
       "      <td>...</td>\n",
       "      <td>...</td>\n",
       "    </tr>\n",
       "    <tr>\n",
       "      <th>14995</th>\n",
       "      <td>14996</td>\n",
       "      <td>de13d46f-f73f-4ca5-a778-a579b00eeda3</td>\n",
       "      <td>Male</td>\n",
       "      <td>26</td>\n",
       "      <td>26-35</td>\n",
       "      <td>Acer Aspire final</td>\n",
       "      <td>Acer</td>\n",
       "      <td>2085</td>\n",
       "      <td>116.98</td>\n",
       "      <td>6</td>\n",
       "      <td>2021</td>\n",
       "      <td>1968</td>\n",
       "      <td>4.6</td>\n",
       "      <td>Connecticut</td>\n",
       "      <td>1</td>\n",
       "      <td>www.newegg.com</td>\n",
       "    </tr>\n",
       "    <tr>\n",
       "      <th>14996</th>\n",
       "      <td>14997</td>\n",
       "      <td>77d1b1c3-475c-4bf2-aecd-e5b318be9fdf</td>\n",
       "      <td>Male</td>\n",
       "      <td>33</td>\n",
       "      <td>26-35</td>\n",
       "      <td>Lenovo Legion cause</td>\n",
       "      <td>Lenovo</td>\n",
       "      <td>915</td>\n",
       "      <td>116.51</td>\n",
       "      <td>8</td>\n",
       "      <td>2019</td>\n",
       "      <td>799</td>\n",
       "      <td>4.0</td>\n",
       "      <td>Michigan</td>\n",
       "      <td>1</td>\n",
       "      <td>www.newegg.com</td>\n",
       "    </tr>\n",
       "    <tr>\n",
       "      <th>14997</th>\n",
       "      <td>14998</td>\n",
       "      <td>ddb8f51e-8810-4420-bdf8-b08a5c57aaa5</td>\n",
       "      <td>Male</td>\n",
       "      <td>27</td>\n",
       "      <td>26-35</td>\n",
       "      <td>MacBook Pro campaign</td>\n",
       "      <td>MacBook</td>\n",
       "      <td>2259</td>\n",
       "      <td>81.38</td>\n",
       "      <td>3</td>\n",
       "      <td>2018</td>\n",
       "      <td>2177</td>\n",
       "      <td>4.8</td>\n",
       "      <td>Tennessee</td>\n",
       "      <td>1</td>\n",
       "      <td>www.newegg.com</td>\n",
       "    </tr>\n",
       "    <tr>\n",
       "      <th>14998</th>\n",
       "      <td>14999</td>\n",
       "      <td>69b35d5f-1a63-44c6-a94c-42f87511f461</td>\n",
       "      <td>Female</td>\n",
       "      <td>31</td>\n",
       "      <td>26-35</td>\n",
       "      <td>Dell XPS sit</td>\n",
       "      <td>Dell</td>\n",
       "      <td>1477</td>\n",
       "      <td>214.74</td>\n",
       "      <td>8</td>\n",
       "      <td>2021</td>\n",
       "      <td>1262</td>\n",
       "      <td>4.5</td>\n",
       "      <td>Delaware</td>\n",
       "      <td>1</td>\n",
       "      <td>www.newegg.com</td>\n",
       "    </tr>\n",
       "    <tr>\n",
       "      <th>14999</th>\n",
       "      <td>15000</td>\n",
       "      <td>746074b9-2c4f-44a9-8b1a-c1c5f3e28d54</td>\n",
       "      <td>Male</td>\n",
       "      <td>30</td>\n",
       "      <td>26-35</td>\n",
       "      <td>HP EliteBook begin</td>\n",
       "      <td>HP</td>\n",
       "      <td>1366</td>\n",
       "      <td>236.74</td>\n",
       "      <td>2</td>\n",
       "      <td>2020</td>\n",
       "      <td>1129</td>\n",
       "      <td>4.3</td>\n",
       "      <td>Tennessee</td>\n",
       "      <td>1</td>\n",
       "      <td>www.newegg.com</td>\n",
       "    </tr>\n",
       "  </tbody>\n",
       "</table>\n",
       "<p>15000 rows × 16 columns</p>\n",
       "</div>"
      ],
      "text/plain": [
       "       Order ID                           Customer ID  Gender  Age Age Group  \\\n",
       "0             1  83c03410-1e67-48c2-bde3-227c0fe60958    Male   28     26-35   \n",
       "1             2  bd088420-1f97-45e6-989f-f4e4e0c8476b    Male   28     26-35   \n",
       "2             3  747c916b-bbf2-4dc5-9faa-59fa11babe0b    Male   28     26-35   \n",
       "3             4  5ef09850-671c-4e7d-b198-2f74c14abc15    Male   28     26-35   \n",
       "4             5  94b495cc-c912-49e5-b052-72b58bf712ca    Male   28     26-35   \n",
       "...         ...                                   ...     ...  ...       ...   \n",
       "14995     14996  de13d46f-f73f-4ca5-a778-a579b00eeda3    Male   26     26-35   \n",
       "14996     14997  77d1b1c3-475c-4bf2-aecd-e5b318be9fdf    Male   33     26-35   \n",
       "14997     14998  ddb8f51e-8810-4420-bdf8-b08a5c57aaa5    Male   27     26-35   \n",
       "14998     14999  69b35d5f-1a63-44c6-a94c-42f87511f461  Female   31     26-35   \n",
       "14999     15000  746074b9-2c4f-44a9-8b1a-c1c5f3e28d54    Male   30     26-35   \n",
       "\n",
       "                         Laptop Model      Brand  Price  Discount  Month  \\\n",
       "0      Microsoft Surface Laptop month  Microsoft    550    118.76      4   \n",
       "1       Microsoft Surface Laptop mind  Microsoft   1680     57.95      2   \n",
       "2                    MacBook Air miss    MacBook   1622    229.00     12   \n",
       "3                      ASUS ROG there       ASUS   1056    267.33      3   \n",
       "4                 Lenovo IdeaPad open     Lenovo    930    240.87      2   \n",
       "...                               ...        ...    ...       ...    ...   \n",
       "14995               Acer Aspire final       Acer   2085    116.98      6   \n",
       "14996             Lenovo Legion cause     Lenovo    915    116.51      8   \n",
       "14997            MacBook Pro campaign    MacBook   2259     81.38      3   \n",
       "14998                    Dell XPS sit       Dell   1477    214.74      8   \n",
       "14999              HP EliteBook begin         HP   1366    236.74      2   \n",
       "\n",
       "       Year  Final_Price  Rating           State  Order Count            Link  \n",
       "0      2020          431     3.7     Connecticut            1  www.newegg.com  \n",
       "1      2022         1623     3.8  North Carolina            1  www.newegg.com  \n",
       "2      2022         1393     4.3            Iowa            1  www.newegg.com  \n",
       "3      2021          789     4.5        Michigan            1  www.newegg.com  \n",
       "4      2019          689     3.6     Connecticut            1  www.newegg.com  \n",
       "...     ...          ...     ...             ...          ...             ...  \n",
       "14995  2021         1968     4.6     Connecticut            1  www.newegg.com  \n",
       "14996  2019          799     4.0        Michigan            1  www.newegg.com  \n",
       "14997  2018         2177     4.8       Tennessee            1  www.newegg.com  \n",
       "14998  2021         1262     4.5        Delaware            1  www.newegg.com  \n",
       "14999  2020         1129     4.3       Tennessee            1  www.newegg.com  \n",
       "\n",
       "[15000 rows x 16 columns]"
      ]
     },
     "execution_count": 20,
     "metadata": {},
     "output_type": "execute_result"
    }
   ],
   "source": [
    "df.rename(columns={'Final Price ($)':'Final_Price'})"
   ]
  },
  {
   "cell_type": "code",
   "execution_count": 21,
   "id": "2b2b1084",
   "metadata": {},
   "outputs": [
    {
     "data": {
      "text/plain": [
       "0.06666666666666667"
      ]
     },
     "execution_count": 21,
     "metadata": {},
     "output_type": "execute_result"
    }
   ],
   "source": [
    "df.Rating.isnull().sum()/len(df)"
   ]
  },
  {
   "cell_type": "code",
   "execution_count": 22,
   "id": "e610512c",
   "metadata": {},
   "outputs": [],
   "source": [
    "df.Rating.fillna(df.Rating.mean(),inplace=True)"
   ]
  },
  {
   "cell_type": "code",
   "execution_count": 23,
   "id": "4852bf9e",
   "metadata": {},
   "outputs": [],
   "source": [
    "df.Discount.fillna(df.Discount.mean(),inplace=True)"
   ]
  },
  {
   "cell_type": "code",
   "execution_count": 24,
   "id": "5b2ae8e0",
   "metadata": {},
   "outputs": [
    {
     "data": {
      "text/plain": [
       "<Axes: >"
      ]
     },
     "execution_count": 24,
     "metadata": {},
     "output_type": "execute_result"
    },
    {
     "data": {
      "image/png": "[encoded data removed]",
      "text/plain": [
       "<Figure size 640x480 with 2 Axes>"
      ]
     },
     "metadata": {},
     "output_type": "display_data"
    }
   ],
   "source": [
    "sns.heatmap(df.isnull())"
   ]
  },
  {
   "cell_type": "markdown",
   "id": "77da7f68",
   "metadata": {},
   "source": [
    "our data has some nulls in Discount and Rating , Well filed the data using fillna and changed the type odf somr coloums\n",
    "Now we have clean data which we can perform futher Analysis"
   ]
  },
  {
   "cell_type": "markdown",
   "id": "061c8ee6",
   "metadata": {},
   "source": [
    "# Exploratory Data Analysis"
   ]
  },
  {
   "cell_type": "code",
   "execution_count": 25,
   "id": "d7d91f28",
   "metadata": {},
   "outputs": [
    {
     "data": {
      "image/png": "[encoded data removed]",
      "text/plain": [
       "<Figure size 640x480 with 1 Axes>"
      ]
     },
     "metadata": {},
     "output_type": "display_data"
    }
   ],
   "source": [
    "ax = sns.countplot(x = 'Year',data = df)\n",
    "\n",
    "for bars in ax.containers:\n",
    "    ax.bar_label(bars)"
   ]
  },
  {
   "cell_type": "markdown",
   "id": "42de673c",
   "metadata": {},
   "source": [
    "we can see the sales are higher in year 2020 - 2022 it may due to Covid-19"
   ]
  },
  {
   "cell_type": "code",
   "execution_count": 26,
   "id": "3c527100",
   "metadata": {},
   "outputs": [
    {
     "data": {
      "text/html": [
       "<div>\n",
       "<style scoped>\n",
       "    .dataframe tbody tr th:only-of-type {\n",
       "        vertical-align: middle;\n",
       "    }\n",
       "\n",
       "    .dataframe tbody tr th {\n",
       "        vertical-align: top;\n",
       "    }\n",
       "\n",
       "    .dataframe thead th {\n",
       "        text-align: right;\n",
       "    }\n",
       "</style>\n",
       "<table border=\"1\" class=\"dataframe\">\n",
       "  <thead>\n",
       "    <tr style=\"text-align: right;\">\n",
       "      <th></th>\n",
       "      <th>Order ID</th>\n",
       "      <th>Customer ID</th>\n",
       "      <th>Gender</th>\n",
       "      <th>Age</th>\n",
       "      <th>Age Group</th>\n",
       "      <th>Laptop Model</th>\n",
       "      <th>Brand</th>\n",
       "      <th>Price</th>\n",
       "      <th>Discount</th>\n",
       "      <th>Month</th>\n",
       "      <th>Year</th>\n",
       "      <th>Final Price ($)</th>\n",
       "      <th>Rating</th>\n",
       "      <th>State</th>\n",
       "      <th>Order Count</th>\n",
       "      <th>Link</th>\n",
       "    </tr>\n",
       "  </thead>\n",
       "  <tbody>\n",
       "    <tr>\n",
       "      <th>0</th>\n",
       "      <td>1</td>\n",
       "      <td>83c03410-1e67-48c2-bde3-227c0fe60958</td>\n",
       "      <td>Male</td>\n",
       "      <td>28</td>\n",
       "      <td>26-35</td>\n",
       "      <td>Microsoft Surface Laptop month</td>\n",
       "      <td>Microsoft</td>\n",
       "      <td>550</td>\n",
       "      <td>118.76</td>\n",
       "      <td>4</td>\n",
       "      <td>2020</td>\n",
       "      <td>431</td>\n",
       "      <td>3.7</td>\n",
       "      <td>Connecticut</td>\n",
       "      <td>1</td>\n",
       "      <td>www.newegg.com</td>\n",
       "    </tr>\n",
       "    <tr>\n",
       "      <th>1</th>\n",
       "      <td>2</td>\n",
       "      <td>bd088420-1f97-45e6-989f-f4e4e0c8476b</td>\n",
       "      <td>Male</td>\n",
       "      <td>28</td>\n",
       "      <td>26-35</td>\n",
       "      <td>Microsoft Surface Laptop mind</td>\n",
       "      <td>Microsoft</td>\n",
       "      <td>1680</td>\n",
       "      <td>57.95</td>\n",
       "      <td>2</td>\n",
       "      <td>2022</td>\n",
       "      <td>1623</td>\n",
       "      <td>3.8</td>\n",
       "      <td>North Carolina</td>\n",
       "      <td>1</td>\n",
       "      <td>www.newegg.com</td>\n",
       "    </tr>\n",
       "    <tr>\n",
       "      <th>2</th>\n",
       "      <td>3</td>\n",
       "      <td>747c916b-bbf2-4dc5-9faa-59fa11babe0b</td>\n",
       "      <td>Male</td>\n",
       "      <td>28</td>\n",
       "      <td>26-35</td>\n",
       "      <td>MacBook Air miss</td>\n",
       "      <td>MacBook</td>\n",
       "      <td>1622</td>\n",
       "      <td>229.00</td>\n",
       "      <td>12</td>\n",
       "      <td>2022</td>\n",
       "      <td>1393</td>\n",
       "      <td>4.3</td>\n",
       "      <td>Iowa</td>\n",
       "      <td>1</td>\n",
       "      <td>www.newegg.com</td>\n",
       "    </tr>\n",
       "    <tr>\n",
       "      <th>3</th>\n",
       "      <td>4</td>\n",
       "      <td>5ef09850-671c-4e7d-b198-2f74c14abc15</td>\n",
       "      <td>Male</td>\n",
       "      <td>28</td>\n",
       "      <td>26-35</td>\n",
       "      <td>ASUS ROG there</td>\n",
       "      <td>ASUS</td>\n",
       "      <td>1056</td>\n",
       "      <td>267.33</td>\n",
       "      <td>3</td>\n",
       "      <td>2021</td>\n",
       "      <td>789</td>\n",
       "      <td>4.5</td>\n",
       "      <td>Michigan</td>\n",
       "      <td>1</td>\n",
       "      <td>www.newegg.com</td>\n",
       "    </tr>\n",
       "    <tr>\n",
       "      <th>4</th>\n",
       "      <td>5</td>\n",
       "      <td>94b495cc-c912-49e5-b052-72b58bf712ca</td>\n",
       "      <td>Male</td>\n",
       "      <td>28</td>\n",
       "      <td>26-35</td>\n",
       "      <td>Lenovo IdeaPad open</td>\n",
       "      <td>Lenovo</td>\n",
       "      <td>930</td>\n",
       "      <td>240.87</td>\n",
       "      <td>2</td>\n",
       "      <td>2019</td>\n",
       "      <td>689</td>\n",
       "      <td>3.6</td>\n",
       "      <td>Connecticut</td>\n",
       "      <td>1</td>\n",
       "      <td>www.newegg.com</td>\n",
       "    </tr>\n",
       "  </tbody>\n",
       "</table>\n",
       "</div>"
      ],
      "text/plain": [
       "   Order ID                           Customer ID Gender  Age Age Group  \\\n",
       "0         1  83c03410-1e67-48c2-bde3-227c0fe60958   Male   28     26-35   \n",
       "1         2  bd088420-1f97-45e6-989f-f4e4e0c8476b   Male   28     26-35   \n",
       "2         3  747c916b-bbf2-4dc5-9faa-59fa11babe0b   Male   28     26-35   \n",
       "3         4  5ef09850-671c-4e7d-b198-2f74c14abc15   Male   28     26-35   \n",
       "4         5  94b495cc-c912-49e5-b052-72b58bf712ca   Male   28     26-35   \n",
       "\n",
       "                     Laptop Model      Brand  Price  Discount  Month  Year  \\\n",
       "0  Microsoft Surface Laptop month  Microsoft    550    118.76      4  2020   \n",
       "1   Microsoft Surface Laptop mind  Microsoft   1680     57.95      2  2022   \n",
       "2                MacBook Air miss    MacBook   1622    229.00     12  2022   \n",
       "3                  ASUS ROG there       ASUS   1056    267.33      3  2021   \n",
       "4             Lenovo IdeaPad open     Lenovo    930    240.87      2  2019   \n",
       "\n",
       "   Final Price ($)  Rating           State  Order Count            Link  \n",
       "0              431     3.7     Connecticut            1  www.newegg.com  \n",
       "1             1623     3.8  North Carolina            1  www.newegg.com  \n",
       "2             1393     4.3            Iowa            1  www.newegg.com  \n",
       "3              789     4.5        Michigan            1  www.newegg.com  \n",
       "4              689     3.6     Connecticut            1  www.newegg.com  "
      ]
     },
     "execution_count": 26,
     "metadata": {},
     "output_type": "execute_result"
    }
   ],
   "source": [
    "df.head()"
   ]
  },
  {
   "cell_type": "code",
   "execution_count": 27,
   "id": "325ce10e",
   "metadata": {},
   "outputs": [
    {
     "data": {
      "image/png": "[encoded data removed]",
      "text/plain": [
       "<Figure size 640x480 with 1 Axes>"
      ]
     },
     "metadata": {},
     "output_type": "display_data"
    }
   ],
   "source": [
    "ax = sns.countplot(x = 'Gender',data = df)\n",
    "\n",
    "for bars in ax.containers:\n",
    "    ax.bar_label(bars)"
   ]
  },
  {
   "cell_type": "markdown",
   "id": "79c1288c",
   "metadata": {},
   "source": [
    "From above graphs we can see that most of the buyers are males and even the purchasing power of males are greater"
   ]
  },
  {
   "cell_type": "code",
   "execution_count": 28,
   "id": "ff7af902",
   "metadata": {},
   "outputs": [
    {
     "data": {
      "image/png": "[encoded data removed]",
      "text/plain": [
       "<Figure size 640x480 with 1 Axes>"
      ]
     },
     "metadata": {},
     "output_type": "display_data"
    }
   ],
   "source": [
    "ax = sns.countplot(data = df, x = 'Age Group', hue = 'Gender')\n",
    "\n",
    "for bars in ax.containers:\n",
    "    ax.bar_label(bars)"
   ]
  },
  {
   "cell_type": "markdown",
   "id": "59cf158e",
   "metadata": {},
   "source": [
    "From above graphs we can see that most of the buyers are of age group between 26-35 yrs "
   ]
  },
  {
   "cell_type": "code",
   "execution_count": 29,
   "id": "16a360f9",
   "metadata": {},
   "outputs": [
    {
     "data": {
      "text/plain": [
       "<Axes: xlabel='Age Group', ylabel='Price'>"
      ]
     },
     "execution_count": 29,
     "metadata": {},
     "output_type": "execute_result"
    },
    {
     "data": {
      "image/png": "[encoded data removed]",
      "text/plain": [
       "<Figure size 640x480 with 1 Axes>"
      ]
     },
     "metadata": {},
     "output_type": "display_data"
    }
   ],
   "source": [
    "sales_age = df.groupby(['Age Group'], as_index=False)['Price'].sum().sort_values(by='Price', ascending=False)\n",
    "\n",
    "sns.barplot(x = 'Age Group',y= 'Price' ,data = sales_age)"
   ]
  },
  {
   "cell_type": "code",
   "execution_count": 30,
   "id": "1b81561d",
   "metadata": {},
   "outputs": [
    {
     "data": {
      "text/plain": [
       "<Axes: xlabel='State', ylabel='Order Count'>"
      ]
     },
     "execution_count": 30,
     "metadata": {},
     "output_type": "execute_result"
    },
    {
     "data": {
      "image/png": "[encoded data removed]",
      "text/plain": [
       "<Figure size 1500x500 with 1 Axes>"
      ]
     },
     "metadata": {},
     "output_type": "display_data"
    }
   ],
   "source": [
    "sales_state = df.groupby(['State'], as_index=False)['Order Count'].sum().sort_values(by='Order Count', ascending=False).head(10)\n",
    "\n",
    "sns.set(rc={'figure.figsize':(15,5)})\n",
    "sns.barplot(data = sales_state, x = 'State',y= 'Order Count')"
   ]
  },
  {
   "cell_type": "markdown",
   "id": "fed2fcd5",
   "metadata": {},
   "source": [
    "we got top states for ware we are geating orders \n",
    "first st is Oregon followed by Vermont at second and Connecticut at third"
   ]
  },
  {
   "cell_type": "code",
   "execution_count": 31,
   "id": "0ef420d7",
   "metadata": {},
   "outputs": [
    {
     "data": {
      "text/plain": [
       "<Axes: xlabel='State', ylabel='Price'>"
      ]
     },
     "execution_count": 31,
     "metadata": {},
     "output_type": "execute_result"
    },
    {
     "data": {
      "image/png": "[encoded data removed]",
      "text/plain": [
       "<Figure size 1500x500 with 1 Axes>"
      ]
     },
     "metadata": {},
     "output_type": "display_data"
    }
   ],
   "source": [
    "sales_state = df.groupby(['State'], as_index=False)['Price'].sum().sort_values(by='Price', ascending=False).head(8)\n",
    "\n",
    "sns.set(rc={'figure.figsize':(15,5)})\n",
    "sns.barplot(data = sales_state, x = 'State',y= 'Price')"
   ]
  },
  {
   "cell_type": "markdown",
   "id": "d1c2946f",
   "metadata": {},
   "source": [
    "From above graphs we can see that most of the orders & total sales/amount are from Oregon,Connecticut and Idaho respectively"
   ]
  },
  {
   "cell_type": "code",
   "execution_count": 32,
   "id": "2063dee6",
   "metadata": {},
   "outputs": [
    {
     "data": {
      "text/plain": [
       "<Axes: xlabel='Laptop Model', ylabel='Price'>"
      ]
     },
     "execution_count": 32,
     "metadata": {},
     "output_type": "execute_result"
    },
    {
     "data": {
      "image/png": "[encoded data removed]",
      "text/plain": [
       "<Figure size 2000x800 with 1 Axes>"
      ]
     },
     "metadata": {},
     "output_type": "display_data"
    }
   ],
   "source": [
    "sales_state = df.groupby(['Laptop Model'], as_index=False)['Price'].sum().sort_values(by='Price', ascending=False).head(8)\n",
    "\n",
    "sns.set(rc={'figure.figsize':(20,8)})\n",
    "sns.barplot(data = sales_state, x = 'Laptop Model',y= 'Price')"
   ]
  },
  {
   "cell_type": "markdown",
   "id": "da5b3d4a",
   "metadata": {},
   "source": [
    "as the above graph shows that in laptops 'Acer Predator power' is at top and 2nd is MacBook Pro,  \n",
    "                     MacBook Pro Perform at top of list "
   ]
  },
  {
   "cell_type": "code",
   "execution_count": 33,
   "id": "5cd77ecc",
   "metadata": {},
   "outputs": [
    {
     "data": {
      "text/plain": [
       "<Axes: xlabel='Laptop Model', ylabel='Rating'>"
      ]
     },
     "execution_count": 33,
     "metadata": {},
     "output_type": "execute_result"
    },
    {
     "data": {
      "image/png": "[encoded data removed]",
      "text/plain": [
       "<Figure size 1500x500 with 1 Axes>"
      ]
     },
     "metadata": {},
     "output_type": "display_data"
    }
   ],
   "source": [
    "sales_state = df.groupby(['Laptop Model'], as_index=False)['Rating'].sum().sort_values(by='Rating', ascending=False).head(5)\n",
    "\n",
    "sns.set(rc={'figure.figsize':(15,5)})\n",
    "sns.barplot(data = sales_state, x = 'Laptop Model',y= 'Rating')"
   ]
  },
  {
   "cell_type": "markdown",
   "id": "77ac2f1b",
   "metadata": {},
   "source": [
    "from above graphs we can see that Acer Predator Power got top rating and Microsoft surface Book is second and follewed bt \n",
    "and MacBook Pro "
   ]
  },
  {
   "cell_type": "code",
   "execution_count": 34,
   "id": "3395b4a2",
   "metadata": {},
   "outputs": [],
   "source": [
    "import matplotlib.pyplot as plt\n",
    "%matplotlib inline"
   ]
  },
  {
   "cell_type": "markdown",
   "id": "c4b234ba",
   "metadata": {},
   "source": [
    "# top 5 laptop "
   ]
  },
  {
   "cell_type": "code",
   "execution_count": 35,
   "id": "a84deab5",
   "metadata": {},
   "outputs": [
    {
     "data": {
      "text/plain": [
       "<Axes: xlabel='Laptop Model'>"
      ]
     },
     "execution_count": 35,
     "metadata": {},
     "output_type": "execute_result"
    },
    {
     "data": {
      "image/png": "[encoded data removed]",
      "text/plain": [
       "<Figure size 1000x500 with 1 Axes>"
      ]
     },
     "metadata": {},
     "output_type": "display_data"
    }
   ],
   "source": [
    "fig1, ax1 = plt.subplots(figsize=(10,5))\n",
    "df.groupby('Laptop Model')['Order Count'].sum().nlargest(5).sort_values(ascending=False).plot(kind='bar')"
   ]
  },
  {
   "cell_type": "markdown",
   "id": "80b852e7",
   "metadata": {},
   "source": [
    "# Insight:"
   ]
  },
  {
   "cell_type": "markdown",
   "id": "235eb49c",
   "metadata": {},
   "source": [
    "   - As we can see the rapide grouth in sales in year 2019 - 2022, we can see jump in 2019 to 2020\n",
    "\n",
    "   -our customers are more male then female 70%-30% ratio , and purchasing power of male is greater\n",
    "   -most of our buyers are youngh persons age group of 26-35 yrs\n",
    "\n",
    "   -Top sates we get orders are 1st is Oregon ,2nd is Vermont followed by Connecticut\n",
    "   -Top sates spent more / which has more bussines are 1st is Oregon , followed by Connectict\n",
    "    and 3rdis Idaho\n",
    "\n",
    "   -Top 5 Laptops sales -('Ace Predatar Power','Acer Aspire Staff','MacBook Pro Perform',\n",
    "                       'Microsoft Surface Boat','Microsoft Surface Word')\n",
    "   -Mostily costily Laptops are 1st is 'Acer Predator Power' and MacBook Pro\n",
    "   -Top rating Laptops are (\"Acer Predatar Power\",\"Micrsoft Surface\",\"MacBook Pro Perform\")\n"
   ]
  },
  {
   "cell_type": "code",
   "execution_count": null,
   "id": "a404339c",
   "metadata": {},
   "outputs": [],
   "source": []
  },
  {
   "cell_type": "code",
   "execution_count": null,
   "id": "275a13c3",
   "metadata": {},
   "outputs": [],
   "source": []
  },
  {
   "cell_type": "markdown",
   "id": "5178c32b",
   "metadata": {},
   "source": [
    "# Trasforming the data"
   ]
  },
  {
   "cell_type": "code",
   "execution_count": 36,
   "id": "863f94f0",
   "metadata": {},
   "outputs": [
    {
     "data": {
      "text/html": [
       "<div>\n",
       "<style scoped>\n",
       "    .dataframe tbody tr th:only-of-type {\n",
       "        vertical-align: middle;\n",
       "    }\n",
       "\n",
       "    .dataframe tbody tr th {\n",
       "        vertical-align: top;\n",
       "    }\n",
       "\n",
       "    .dataframe thead th {\n",
       "        text-align: right;\n",
       "    }\n",
       "</style>\n",
       "<table border=\"1\" class=\"dataframe\">\n",
       "  <thead>\n",
       "    <tr style=\"text-align: right;\">\n",
       "      <th></th>\n",
       "      <th>Order ID</th>\n",
       "      <th>Customer ID</th>\n",
       "      <th>Gender</th>\n",
       "      <th>Age</th>\n",
       "      <th>Age Group</th>\n",
       "      <th>Laptop Model</th>\n",
       "      <th>Brand</th>\n",
       "      <th>Price</th>\n",
       "      <th>Discount</th>\n",
       "      <th>Month</th>\n",
       "      <th>Year</th>\n",
       "      <th>Final Price ($)</th>\n",
       "      <th>Rating</th>\n",
       "      <th>State</th>\n",
       "      <th>Order Count</th>\n",
       "      <th>Link</th>\n",
       "    </tr>\n",
       "  </thead>\n",
       "  <tbody>\n",
       "    <tr>\n",
       "      <th>0</th>\n",
       "      <td>1</td>\n",
       "      <td>83c03410-1e67-48c2-bde3-227c0fe60958</td>\n",
       "      <td>Male</td>\n",
       "      <td>28</td>\n",
       "      <td>26-35</td>\n",
       "      <td>Microsoft Surface Laptop month</td>\n",
       "      <td>Microsoft</td>\n",
       "      <td>550</td>\n",
       "      <td>118.76</td>\n",
       "      <td>4</td>\n",
       "      <td>2020</td>\n",
       "      <td>431</td>\n",
       "      <td>3.7</td>\n",
       "      <td>Connecticut</td>\n",
       "      <td>1</td>\n",
       "      <td>www.newegg.com</td>\n",
       "    </tr>\n",
       "    <tr>\n",
       "      <th>1</th>\n",
       "      <td>2</td>\n",
       "      <td>bd088420-1f97-45e6-989f-f4e4e0c8476b</td>\n",
       "      <td>Male</td>\n",
       "      <td>28</td>\n",
       "      <td>26-35</td>\n",
       "      <td>Microsoft Surface Laptop mind</td>\n",
       "      <td>Microsoft</td>\n",
       "      <td>1680</td>\n",
       "      <td>57.95</td>\n",
       "      <td>2</td>\n",
       "      <td>2022</td>\n",
       "      <td>1623</td>\n",
       "      <td>3.8</td>\n",
       "      <td>North Carolina</td>\n",
       "      <td>1</td>\n",
       "      <td>www.newegg.com</td>\n",
       "    </tr>\n",
       "    <tr>\n",
       "      <th>2</th>\n",
       "      <td>3</td>\n",
       "      <td>747c916b-bbf2-4dc5-9faa-59fa11babe0b</td>\n",
       "      <td>Male</td>\n",
       "      <td>28</td>\n",
       "      <td>26-35</td>\n",
       "      <td>MacBook Air miss</td>\n",
       "      <td>MacBook</td>\n",
       "      <td>1622</td>\n",
       "      <td>229.00</td>\n",
       "      <td>12</td>\n",
       "      <td>2022</td>\n",
       "      <td>1393</td>\n",
       "      <td>4.3</td>\n",
       "      <td>Iowa</td>\n",
       "      <td>1</td>\n",
       "      <td>www.newegg.com</td>\n",
       "    </tr>\n",
       "    <tr>\n",
       "      <th>3</th>\n",
       "      <td>4</td>\n",
       "      <td>5ef09850-671c-4e7d-b198-2f74c14abc15</td>\n",
       "      <td>Male</td>\n",
       "      <td>28</td>\n",
       "      <td>26-35</td>\n",
       "      <td>ASUS ROG there</td>\n",
       "      <td>ASUS</td>\n",
       "      <td>1056</td>\n",
       "      <td>267.33</td>\n",
       "      <td>3</td>\n",
       "      <td>2021</td>\n",
       "      <td>789</td>\n",
       "      <td>4.5</td>\n",
       "      <td>Michigan</td>\n",
       "      <td>1</td>\n",
       "      <td>www.newegg.com</td>\n",
       "    </tr>\n",
       "    <tr>\n",
       "      <th>4</th>\n",
       "      <td>5</td>\n",
       "      <td>94b495cc-c912-49e5-b052-72b58bf712ca</td>\n",
       "      <td>Male</td>\n",
       "      <td>28</td>\n",
       "      <td>26-35</td>\n",
       "      <td>Lenovo IdeaPad open</td>\n",
       "      <td>Lenovo</td>\n",
       "      <td>930</td>\n",
       "      <td>240.87</td>\n",
       "      <td>2</td>\n",
       "      <td>2019</td>\n",
       "      <td>689</td>\n",
       "      <td>3.6</td>\n",
       "      <td>Connecticut</td>\n",
       "      <td>1</td>\n",
       "      <td>www.newegg.com</td>\n",
       "    </tr>\n",
       "  </tbody>\n",
       "</table>\n",
       "</div>"
      ],
      "text/plain": [
       "   Order ID                           Customer ID Gender  Age Age Group  \\\n",
       "0         1  83c03410-1e67-48c2-bde3-227c0fe60958   Male   28     26-35   \n",
       "1         2  bd088420-1f97-45e6-989f-f4e4e0c8476b   Male   28     26-35   \n",
       "2         3  747c916b-bbf2-4dc5-9faa-59fa11babe0b   Male   28     26-35   \n",
       "3         4  5ef09850-671c-4e7d-b198-2f74c14abc15   Male   28     26-35   \n",
       "4         5  94b495cc-c912-49e5-b052-72b58bf712ca   Male   28     26-35   \n",
       "\n",
       "                     Laptop Model      Brand  Price  Discount  Month  Year  \\\n",
       "0  Microsoft Surface Laptop month  Microsoft    550    118.76      4  2020   \n",
       "1   Microsoft Surface Laptop mind  Microsoft   1680     57.95      2  2022   \n",
       "2                MacBook Air miss    MacBook   1622    229.00     12  2022   \n",
       "3                  ASUS ROG there       ASUS   1056    267.33      3  2021   \n",
       "4             Lenovo IdeaPad open     Lenovo    930    240.87      2  2019   \n",
       "\n",
       "   Final Price ($)  Rating           State  Order Count            Link  \n",
       "0              431     3.7     Connecticut            1  www.newegg.com  \n",
       "1             1623     3.8  North Carolina            1  www.newegg.com  \n",
       "2             1393     4.3            Iowa            1  www.newegg.com  \n",
       "3              789     4.5        Michigan            1  www.newegg.com  \n",
       "4              689     3.6     Connecticut            1  www.newegg.com  "
      ]
     },
     "execution_count": 36,
     "metadata": {},
     "output_type": "execute_result"
    }
   ],
   "source": [
    "df.head()"
   ]
  },
  {
   "cell_type": "code",
   "execution_count": 37,
   "id": "7fdeecd2",
   "metadata": {},
   "outputs": [],
   "source": [
    "from sklearn.preprocessing import LabelEncoder"
   ]
  },
  {
   "cell_type": "code",
   "execution_count": 38,
   "id": "efcd8011",
   "metadata": {},
   "outputs": [],
   "source": [
    "le = LabelEncoder()"
   ]
  },
  {
   "cell_type": "code",
   "execution_count": 39,
   "id": "a49bd2fd",
   "metadata": {},
   "outputs": [],
   "source": [
    "df = df.apply(le.fit_transform)"
   ]
  },
  {
   "cell_type": "code",
   "execution_count": 40,
   "id": "32d94850",
   "metadata": {},
   "outputs": [
    {
     "data": {
      "text/html": [
       "<div>\n",
       "<style scoped>\n",
       "    .dataframe tbody tr th:only-of-type {\n",
       "        vertical-align: middle;\n",
       "    }\n",
       "\n",
       "    .dataframe tbody tr th {\n",
       "        vertical-align: top;\n",
       "    }\n",
       "\n",
       "    .dataframe thead th {\n",
       "        text-align: right;\n",
       "    }\n",
       "</style>\n",
       "<table border=\"1\" class=\"dataframe\">\n",
       "  <thead>\n",
       "    <tr style=\"text-align: right;\">\n",
       "      <th></th>\n",
       "      <th>Order ID</th>\n",
       "      <th>Customer ID</th>\n",
       "      <th>Gender</th>\n",
       "      <th>Age</th>\n",
       "      <th>Age Group</th>\n",
       "      <th>Laptop Model</th>\n",
       "      <th>Brand</th>\n",
       "      <th>Price</th>\n",
       "      <th>Discount</th>\n",
       "      <th>Month</th>\n",
       "      <th>Year</th>\n",
       "      <th>Final Price ($)</th>\n",
       "      <th>Rating</th>\n",
       "      <th>State</th>\n",
       "      <th>Order Count</th>\n",
       "      <th>Link</th>\n",
       "    </tr>\n",
       "  </thead>\n",
       "  <tbody>\n",
       "    <tr>\n",
       "      <th>0</th>\n",
       "      <td>0</td>\n",
       "      <td>7578</td>\n",
       "      <td>1</td>\n",
       "      <td>10</td>\n",
       "      <td>1</td>\n",
       "      <td>10074</td>\n",
       "      <td>6</td>\n",
       "      <td>50</td>\n",
       "      <td>2910</td>\n",
       "      <td>3</td>\n",
       "      <td>2</td>\n",
       "      <td>201</td>\n",
       "      <td>2</td>\n",
       "      <td>6</td>\n",
       "      <td>0</td>\n",
       "      <td>0</td>\n",
       "    </tr>\n",
       "    <tr>\n",
       "      <th>1</th>\n",
       "      <td>1</td>\n",
       "      <td>11021</td>\n",
       "      <td>1</td>\n",
       "      <td>10</td>\n",
       "      <td>1</td>\n",
       "      <td>10068</td>\n",
       "      <td>6</td>\n",
       "      <td>1176</td>\n",
       "      <td>365</td>\n",
       "      <td>1</td>\n",
       "      <td>4</td>\n",
       "      <td>1393</td>\n",
       "      <td>3</td>\n",
       "      <td>32</td>\n",
       "      <td>0</td>\n",
       "      <td>0</td>\n",
       "    </tr>\n",
       "    <tr>\n",
       "      <th>2</th>\n",
       "      <td>2</td>\n",
       "      <td>6729</td>\n",
       "      <td>1</td>\n",
       "      <td>10</td>\n",
       "      <td>1</td>\n",
       "      <td>8080</td>\n",
       "      <td>5</td>\n",
       "      <td>1118</td>\n",
       "      <td>7633</td>\n",
       "      <td>11</td>\n",
       "      <td>4</td>\n",
       "      <td>1163</td>\n",
       "      <td>9</td>\n",
       "      <td>14</td>\n",
       "      <td>0</td>\n",
       "      <td>0</td>\n",
       "    </tr>\n",
       "    <tr>\n",
       "      <th>3</th>\n",
       "      <td>3</td>\n",
       "      <td>5468</td>\n",
       "      <td>1</td>\n",
       "      <td>10</td>\n",
       "      <td>1</td>\n",
       "      <td>439</td>\n",
       "      <td>0</td>\n",
       "      <td>554</td>\n",
       "      <td>9297</td>\n",
       "      <td>2</td>\n",
       "      <td>3</td>\n",
       "      <td>559</td>\n",
       "      <td>11</td>\n",
       "      <td>21</td>\n",
       "      <td>0</td>\n",
       "      <td>0</td>\n",
       "    </tr>\n",
       "    <tr>\n",
       "      <th>4</th>\n",
       "      <td>4</td>\n",
       "      <td>8599</td>\n",
       "      <td>1</td>\n",
       "      <td>10</td>\n",
       "      <td>1</td>\n",
       "      <td>6342</td>\n",
       "      <td>4</td>\n",
       "      <td>429</td>\n",
       "      <td>8167</td>\n",
       "      <td>1</td>\n",
       "      <td>1</td>\n",
       "      <td>459</td>\n",
       "      <td>1</td>\n",
       "      <td>6</td>\n",
       "      <td>0</td>\n",
       "      <td>0</td>\n",
       "    </tr>\n",
       "  </tbody>\n",
       "</table>\n",
       "</div>"
      ],
      "text/plain": [
       "   Order ID  Customer ID  Gender  Age  Age Group  Laptop Model  Brand  Price  \\\n",
       "0         0         7578       1   10          1         10074      6     50   \n",
       "1         1        11021       1   10          1         10068      6   1176   \n",
       "2         2         6729       1   10          1          8080      5   1118   \n",
       "3         3         5468       1   10          1           439      0    554   \n",
       "4         4         8599       1   10          1          6342      4    429   \n",
       "\n",
       "   Discount  Month  Year  Final Price ($)  Rating  State  Order Count  Link  \n",
       "0      2910      3     2              201       2      6            0     0  \n",
       "1       365      1     4             1393       3     32            0     0  \n",
       "2      7633     11     4             1163       9     14            0     0  \n",
       "3      9297      2     3              559      11     21            0     0  \n",
       "4      8167      1     1              459       1      6            0     0  "
      ]
     },
     "execution_count": 40,
     "metadata": {},
     "output_type": "execute_result"
    }
   ],
   "source": [
    "df.head()"
   ]
  },
  {
   "cell_type": "code",
   "execution_count": 41,
   "id": "9fca21a9",
   "metadata": {},
   "outputs": [],
   "source": [
    "df.drop(columns=[\"Order ID\",'Customer ID','Age Group','Age','Gender','Link','Order Count','State','Rating'],inplace=True)"
   ]
  },
  {
   "cell_type": "markdown",
   "id": "75b4d67b",
   "metadata": {},
   "source": [
    "# Train Model"
   ]
  },
  {
   "cell_type": "code",
   "execution_count": 42,
   "id": "1c3aee11",
   "metadata": {},
   "outputs": [],
   "source": [
    "x=df.drop(columns=\"Final Price ($)\")"
   ]
  },
  {
   "cell_type": "code",
   "execution_count": 43,
   "id": "1b6280df",
   "metadata": {},
   "outputs": [
    {
     "data": {
      "text/html": [
       "<div>\n",
       "<style scoped>\n",
       "    .dataframe tbody tr th:only-of-type {\n",
       "        vertical-align: middle;\n",
       "    }\n",
       "\n",
       "    .dataframe tbody tr th {\n",
       "        vertical-align: top;\n",
       "    }\n",
       "\n",
       "    .dataframe thead th {\n",
       "        text-align: right;\n",
       "    }\n",
       "</style>\n",
       "<table border=\"1\" class=\"dataframe\">\n",
       "  <thead>\n",
       "    <tr style=\"text-align: right;\">\n",
       "      <th></th>\n",
       "      <th>Laptop Model</th>\n",
       "      <th>Brand</th>\n",
       "      <th>Price</th>\n",
       "      <th>Discount</th>\n",
       "      <th>Month</th>\n",
       "      <th>Year</th>\n",
       "    </tr>\n",
       "  </thead>\n",
       "  <tbody>\n",
       "    <tr>\n",
       "      <th>0</th>\n",
       "      <td>10074</td>\n",
       "      <td>6</td>\n",
       "      <td>50</td>\n",
       "      <td>2910</td>\n",
       "      <td>3</td>\n",
       "      <td>2</td>\n",
       "    </tr>\n",
       "    <tr>\n",
       "      <th>1</th>\n",
       "      <td>10068</td>\n",
       "      <td>6</td>\n",
       "      <td>1176</td>\n",
       "      <td>365</td>\n",
       "      <td>1</td>\n",
       "      <td>4</td>\n",
       "    </tr>\n",
       "    <tr>\n",
       "      <th>2</th>\n",
       "      <td>8080</td>\n",
       "      <td>5</td>\n",
       "      <td>1118</td>\n",
       "      <td>7633</td>\n",
       "      <td>11</td>\n",
       "      <td>4</td>\n",
       "    </tr>\n",
       "    <tr>\n",
       "      <th>3</th>\n",
       "      <td>439</td>\n",
       "      <td>0</td>\n",
       "      <td>554</td>\n",
       "      <td>9297</td>\n",
       "      <td>2</td>\n",
       "      <td>3</td>\n",
       "    </tr>\n",
       "    <tr>\n",
       "      <th>4</th>\n",
       "      <td>6342</td>\n",
       "      <td>4</td>\n",
       "      <td>429</td>\n",
       "      <td>8167</td>\n",
       "      <td>1</td>\n",
       "      <td>1</td>\n",
       "    </tr>\n",
       "    <tr>\n",
       "      <th>...</th>\n",
       "      <td>...</td>\n",
       "      <td>...</td>\n",
       "      <td>...</td>\n",
       "      <td>...</td>\n",
       "      <td>...</td>\n",
       "      <td>...</td>\n",
       "    </tr>\n",
       "    <tr>\n",
       "      <th>14995</th>\n",
       "      <td>1691</td>\n",
       "      <td>1</td>\n",
       "      <td>1581</td>\n",
       "      <td>2837</td>\n",
       "      <td>5</td>\n",
       "      <td>3</td>\n",
       "    </tr>\n",
       "    <tr>\n",
       "      <th>14996</th>\n",
       "      <td>6562</td>\n",
       "      <td>4</td>\n",
       "      <td>414</td>\n",
       "      <td>2819</td>\n",
       "      <td>7</td>\n",
       "      <td>1</td>\n",
       "    </tr>\n",
       "    <tr>\n",
       "      <th>14997</th>\n",
       "      <td>8479</td>\n",
       "      <td>5</td>\n",
       "      <td>1755</td>\n",
       "      <td>1367</td>\n",
       "      <td>2</td>\n",
       "      <td>0</td>\n",
       "    </tr>\n",
       "    <tr>\n",
       "      <th>14998</th>\n",
       "      <td>4354</td>\n",
       "      <td>2</td>\n",
       "      <td>974</td>\n",
       "      <td>6993</td>\n",
       "      <td>7</td>\n",
       "      <td>3</td>\n",
       "    </tr>\n",
       "    <tr>\n",
       "      <th>14999</th>\n",
       "      <td>4473</td>\n",
       "      <td>3</td>\n",
       "      <td>863</td>\n",
       "      <td>7978</td>\n",
       "      <td>1</td>\n",
       "      <td>2</td>\n",
       "    </tr>\n",
       "  </tbody>\n",
       "</table>\n",
       "<p>15000 rows × 6 columns</p>\n",
       "</div>"
      ],
      "text/plain": [
       "       Laptop Model  Brand  Price  Discount  Month  Year\n",
       "0             10074      6     50      2910      3     2\n",
       "1             10068      6   1176       365      1     4\n",
       "2              8080      5   1118      7633     11     4\n",
       "3               439      0    554      9297      2     3\n",
       "4              6342      4    429      8167      1     1\n",
       "...             ...    ...    ...       ...    ...   ...\n",
       "14995          1691      1   1581      2837      5     3\n",
       "14996          6562      4    414      2819      7     1\n",
       "14997          8479      5   1755      1367      2     0\n",
       "14998          4354      2    974      6993      7     3\n",
       "14999          4473      3    863      7978      1     2\n",
       "\n",
       "[15000 rows x 6 columns]"
      ]
     },
     "execution_count": 43,
     "metadata": {},
     "output_type": "execute_result"
    }
   ],
   "source": [
    "x"
   ]
  },
  {
   "cell_type": "code",
   "execution_count": 44,
   "id": "fa8b6e68",
   "metadata": {},
   "outputs": [],
   "source": [
    "y=df[[\"Final Price ($)\"]]"
   ]
  },
  {
   "cell_type": "code",
   "execution_count": 45,
   "id": "a2e804a4",
   "metadata": {},
   "outputs": [
    {
     "data": {
      "text/html": [
       "<div>\n",
       "<style scoped>\n",
       "    .dataframe tbody tr th:only-of-type {\n",
       "        vertical-align: middle;\n",
       "    }\n",
       "\n",
       "    .dataframe tbody tr th {\n",
       "        vertical-align: top;\n",
       "    }\n",
       "\n",
       "    .dataframe thead th {\n",
       "        text-align: right;\n",
       "    }\n",
       "</style>\n",
       "<table border=\"1\" class=\"dataframe\">\n",
       "  <thead>\n",
       "    <tr style=\"text-align: right;\">\n",
       "      <th></th>\n",
       "      <th>Final Price ($)</th>\n",
       "    </tr>\n",
       "  </thead>\n",
       "  <tbody>\n",
       "    <tr>\n",
       "      <th>0</th>\n",
       "      <td>201</td>\n",
       "    </tr>\n",
       "    <tr>\n",
       "      <th>1</th>\n",
       "      <td>1393</td>\n",
       "    </tr>\n",
       "    <tr>\n",
       "      <th>2</th>\n",
       "      <td>1163</td>\n",
       "    </tr>\n",
       "    <tr>\n",
       "      <th>3</th>\n",
       "      <td>559</td>\n",
       "    </tr>\n",
       "    <tr>\n",
       "      <th>4</th>\n",
       "      <td>459</td>\n",
       "    </tr>\n",
       "    <tr>\n",
       "      <th>...</th>\n",
       "      <td>...</td>\n",
       "    </tr>\n",
       "    <tr>\n",
       "      <th>14995</th>\n",
       "      <td>1738</td>\n",
       "    </tr>\n",
       "    <tr>\n",
       "      <th>14996</th>\n",
       "      <td>569</td>\n",
       "    </tr>\n",
       "    <tr>\n",
       "      <th>14997</th>\n",
       "      <td>1947</td>\n",
       "    </tr>\n",
       "    <tr>\n",
       "      <th>14998</th>\n",
       "      <td>1032</td>\n",
       "    </tr>\n",
       "    <tr>\n",
       "      <th>14999</th>\n",
       "      <td>899</td>\n",
       "    </tr>\n",
       "  </tbody>\n",
       "</table>\n",
       "<p>15000 rows × 1 columns</p>\n",
       "</div>"
      ],
      "text/plain": [
       "       Final Price ($)\n",
       "0                  201\n",
       "1                 1393\n",
       "2                 1163\n",
       "3                  559\n",
       "4                  459\n",
       "...                ...\n",
       "14995             1738\n",
       "14996              569\n",
       "14997             1947\n",
       "14998             1032\n",
       "14999              899\n",
       "\n",
       "[15000 rows x 1 columns]"
      ]
     },
     "execution_count": 45,
     "metadata": {},
     "output_type": "execute_result"
    }
   ],
   "source": [
    "y"
   ]
  },
  {
   "cell_type": "code",
   "execution_count": 46,
   "id": "de24f62f",
   "metadata": {},
   "outputs": [],
   "source": [
    "from sklearn.model_selection import train_test_split"
   ]
  },
  {
   "cell_type": "code",
   "execution_count": 47,
   "id": "88c5b809",
   "metadata": {},
   "outputs": [],
   "source": [
    "x_train, x_test, y_train, y_test = train_test_split(x, y, test_size=0.33, random_state=42)"
   ]
  },
  {
   "cell_type": "code",
   "execution_count": 48,
   "id": "64c5c5c6",
   "metadata": {},
   "outputs": [
    {
     "name": "stdout",
     "output_type": "stream",
     "text": [
      "[[10074]\n",
      " [    6]\n",
      " [   50]\n",
      " ...\n",
      " [ 7978]\n",
      " [    1]\n",
      " [    2]]\n"
     ]
    }
   ],
   "source": [
    "x = np.array([[x]])\n",
    "\n",
    "# Reshape the data to a 2D array\n",
    "x_reshaped = x.reshape(-1, 1)\n",
    "print(x_reshaped)"
   ]
  },
  {
   "cell_type": "markdown",
   "id": "9ca9ef6f",
   "metadata": {},
   "source": [
    "# Model Selection"
   ]
  },
  {
   "cell_type": "code",
   "execution_count": 49,
   "id": "6c9ca616",
   "metadata": {},
   "outputs": [],
   "source": [
    "from sklearn.linear_model import LinearRegression"
   ]
  },
  {
   "cell_type": "code",
   "execution_count": 50,
   "id": "bfcb05bd",
   "metadata": {},
   "outputs": [],
   "source": [
    "lr=LinearRegression()"
   ]
  },
  {
   "cell_type": "markdown",
   "id": "64042dc5",
   "metadata": {},
   "source": [
    "     Linear regression is like drawing a straight line through points on a graph to understand the connection\n",
    "     between two things. It helps us predict one thing based on another,\n",
    "     \n",
    "     like estimating house prices based on factors such as size and location.\n",
    "     The goal is to find the best-fitting line that captures the overall trend and helps make informed predictions in a              straightforward way"
   ]
  },
  {
   "cell_type": "code",
   "execution_count": 51,
   "id": "b026dd25",
   "metadata": {},
   "outputs": [
    {
     "data": {
      "text/html": [
       "<style>#sk-container-id-1 {color: black;}#sk-container-id-1 pre{padding: 0;}#sk-container-id-1 div.sk-toggleable {background-color: white;}#sk-container-id-1 label.sk-toggleable__label {cursor: pointer;display: block;width: 100%;margin-bottom: 0;padding: 0.3em;box-sizing: border-box;text-align: center;}#sk-container-id-1 label.sk-toggleable__label-arrow:before {content: \"▸\";float: left;margin-right: 0.25em;color: #696969;}#sk-container-id-1 label.sk-toggleable__label-arrow:hover:before {color: black;}#sk-container-id-1 div.sk-estimator:hover label.sk-toggleable__label-arrow:before {color: black;}#sk-container-id-1 div.sk-toggleable__content {max-height: 0;max-width: 0;overflow: hidden;text-align: left;background-color: #f0f8ff;}#sk-container-id-1 div.sk-toggleable__content pre {margin: 0.2em;color: black;border-radius: 0.25em;background-color: #f0f8ff;}#sk-container-id-1 input.sk-toggleable__control:checked~div.sk-toggleable__content {max-height: 200px;max-width: 100%;overflow: auto;}#sk-container-id-1 input.sk-toggleable__control:checked~label.sk-toggleable__label-arrow:before {content: \"▾\";}#sk-container-id-1 div.sk-estimator input.sk-toggleable__control:checked~label.sk-toggleable__label {background-color: #d4ebff;}#sk-container-id-1 div.sk-label input.sk-toggleable__control:checked~label.sk-toggleable__label {background-color: #d4ebff;}#sk-container-id-1 input.sk-hidden--visually {border: 0;clip: rect(1px 1px 1px 1px);clip: rect(1px, 1px, 1px, 1px);height: 1px;margin: -1px;overflow: hidden;padding: 0;position: absolute;width: 1px;}#sk-container-id-1 div.sk-estimator {font-family: monospace;background-color: #f0f8ff;border: 1px dotted black;border-radius: 0.25em;box-sizing: border-box;margin-bottom: 0.5em;}#sk-container-id-1 div.sk-estimator:hover {background-color: #d4ebff;}#sk-container-id-1 div.sk-parallel-item::after {content: \"\";width: 100%;border-bottom: 1px solid gray;flex-grow: 1;}#sk-container-id-1 div.sk-label:hover label.sk-toggleable__label {background-color: #d4ebff;}#sk-container-id-1 div.sk-serial::before {content: \"\";position: absolute;border-left: 1px solid gray;box-sizing: border-box;top: 0;bottom: 0;left: 50%;z-index: 0;}#sk-container-id-1 div.sk-serial {display: flex;flex-direction: column;align-items: center;background-color: white;padding-right: 0.2em;padding-left: 0.2em;position: relative;}#sk-container-id-1 div.sk-item {position: relative;z-index: 1;}#sk-container-id-1 div.sk-parallel {display: flex;align-items: stretch;justify-content: center;background-color: white;position: relative;}#sk-container-id-1 div.sk-item::before, #sk-container-id-1 div.sk-parallel-item::before {content: \"\";position: absolute;border-left: 1px solid gray;box-sizing: border-box;top: 0;bottom: 0;left: 50%;z-index: -1;}#sk-container-id-1 div.sk-parallel-item {display: flex;flex-direction: column;z-index: 1;position: relative;background-color: white;}#sk-container-id-1 div.sk-parallel-item:first-child::after {align-self: flex-end;width: 50%;}#sk-container-id-1 div.sk-parallel-item:last-child::after {align-self: flex-start;width: 50%;}#sk-container-id-1 div.sk-parallel-item:only-child::after {width: 0;}#sk-container-id-1 div.sk-dashed-wrapped {border: 1px dashed gray;margin: 0 0.4em 0.5em 0.4em;box-sizing: border-box;padding-bottom: 0.4em;background-color: white;}#sk-container-id-1 div.sk-label label {font-family: monospace;font-weight: bold;display: inline-block;line-height: 1.2em;}#sk-container-id-1 div.sk-label-container {text-align: center;}#sk-container-id-1 div.sk-container {/* jupyter's `normalize.less` sets `[hidden] { display: none; }` but bootstrap.min.css set `[hidden] { display: none !important; }` so we also need the `!important` here to be able to override the default hidden behavior on the sphinx rendered scikit-learn.org. See: https://github.com/scikit-learn/scikit-learn/issues/21755 */display: inline-block !important;position: relative;}#sk-container-id-1 div.sk-text-repr-fallback {display: none;}</style><div id=\"sk-container-id-1\" class=\"sk-top-container\"><div class=\"sk-text-repr-fallback\"><pre>LinearRegression()</pre><b>In a Jupyter environment, please rerun this cell to show the HTML representation or trust the notebook. <br />On GitHub, the HTML representation is unable to render, please try loading this page with nbviewer.org.</b></div><div class=\"sk-container\" hidden><div class=\"sk-item\"><div class=\"sk-estimator sk-toggleable\"><input class=\"sk-toggleable__control sk-hidden--visually\" id=\"sk-estimator-id-1\" type=\"checkbox\" checked><label for=\"sk-estimator-id-1\" class=\"sk-toggleable__label sk-toggleable__label-arrow\">LinearRegression</label><div class=\"sk-toggleable__content\"><pre>LinearRegression()</pre></div></div></div></div></div>"
      ],
      "text/plain": [
       "LinearRegression()"
      ]
     },
     "execution_count": 51,
     "metadata": {},
     "output_type": "execute_result"
    }
   ],
   "source": [
    "lr.fit(x_train,y_train)"
   ]
  },
  {
   "cell_type": "code",
   "execution_count": 52,
   "id": "ab05926d",
   "metadata": {},
   "outputs": [],
   "source": [
    "df=lr.fit(x_train,y_train)"
   ]
  },
  {
   "cell_type": "code",
   "execution_count": 53,
   "id": "37064bc8",
   "metadata": {},
   "outputs": [],
   "source": [
    "fit = lr.fit(x_train,y_train)"
   ]
  },
  {
   "cell_type": "code",
   "execution_count": 54,
   "id": "ac30d6d4",
   "metadata": {},
   "outputs": [
    {
     "data": {
      "text/plain": [
       "0.9990121901581926"
      ]
     },
     "execution_count": 54,
     "metadata": {},
     "output_type": "execute_result"
    }
   ],
   "source": [
    "fit.score(x_train,y_train)"
   ]
  },
  {
   "cell_type": "code",
   "execution_count": 55,
   "id": "4944a5f2",
   "metadata": {},
   "outputs": [
    {
     "data": {
      "text/plain": [
       "<function matplotlib.pyplot.plot(*args, scalex=True, scaley=True, data=None, **kwargs)>"
      ]
     },
     "execution_count": 55,
     "metadata": {},
     "output_type": "execute_result"
    }
   ],
   "source": [
    "plt.plot"
   ]
  },
  {
   "cell_type": "code",
   "execution_count": 56,
   "id": "30e3dc4b",
   "metadata": {},
   "outputs": [
    {
     "name": "stderr",
     "output_type": "stream",
     "text": [
      "C:\\Users\\HP\\anaconda3\\Lib\\site-packages\\sklearn\\base.py:464: UserWarning: X does not have valid feature names, but LinearRegression was fitted with feature names\n",
      "  warnings.warn(\n"
     ]
    },
    {
     "data": {
      "text/plain": [
       "array([[202.73683466]])"
      ]
     },
     "execution_count": 56,
     "metadata": {},
     "output_type": "execute_result"
    }
   ],
   "source": [
    "lr.predict([[10074,6,50,2910,3,2]])"
   ]
  },
  {
   "cell_type": "code",
   "execution_count": 57,
   "id": "a7072907",
   "metadata": {},
   "outputs": [
    {
     "name": "stderr",
     "output_type": "stream",
     "text": [
      "C:\\Users\\HP\\anaconda3\\Lib\\site-packages\\sklearn\\base.py:464: UserWarning: X does not have valid feature names, but LinearRegression was fitted with feature names\n",
      "  warnings.warn(\n"
     ]
    },
    {
     "data": {
      "text/plain": [
       "array([[459.81310504]])"
      ]
     },
     "execution_count": 57,
     "metadata": {},
     "output_type": "execute_result"
    }
   ],
   "source": [
    "lr.predict([[6342,4,429,8167,1,1]])"
   ]
  },
  {
   "cell_type": "code",
   "execution_count": 58,
   "id": "185fb67a",
   "metadata": {},
   "outputs": [
    {
     "data": {
      "text/plain": [
       "array([[ 7.08136378e-04, -1.19224867e+00,  1.00178808e+00,\n",
       "        -2.33012312e-02,  6.07080588e-02, -2.72845162e-01]])"
      ]
     },
     "execution_count": 58,
     "metadata": {},
     "output_type": "execute_result"
    }
   ],
   "source": [
    "fit.coef_"
   ]
  },
  {
   "cell_type": "code",
   "execution_count": 59,
   "id": "579c5db4",
   "metadata": {},
   "outputs": [
    {
     "data": {
      "text/plain": [
       "array([220.83730588])"
      ]
     },
     "execution_count": 59,
     "metadata": {},
     "output_type": "execute_result"
    }
   ],
   "source": [
    "fit.intercept_"
   ]
  },
  {
   "cell_type": "code",
   "execution_count": 60,
   "id": "fb5fe13d",
   "metadata": {},
   "outputs": [
    {
     "name": "stdout",
     "output_type": "stream",
     "text": [
      "Shape of x: (10050, 6)\n",
      "Shape of y: (10050, 1)\n"
     ]
    }
   ],
   "source": [
    "print(\"Shape of x:\",x_train.shape)\n",
    "print(\"Shape of y:\", y_train.shape)\n"
   ]
  },
  {
   "cell_type": "markdown",
   "id": "d937cace",
   "metadata": {},
   "source": [
    "# Lasso"
   ]
  },
  {
   "cell_type": "code",
   "execution_count": 61,
   "id": "3ecc351d",
   "metadata": {},
   "outputs": [],
   "source": [
    "from sklearn.linear_model import Lasso"
   ]
  },
  {
   "cell_type": "code",
   "execution_count": 62,
   "id": "5f898e90",
   "metadata": {},
   "outputs": [],
   "source": [
    "ls=Lasso()"
   ]
  },
  {
   "cell_type": "code",
   "execution_count": 63,
   "id": "b469ba0b",
   "metadata": {},
   "outputs": [
    {
     "data": {
      "text/html": [
       "<style>#sk-container-id-2 {color: black;}#sk-container-id-2 pre{padding: 0;}#sk-container-id-2 div.sk-toggleable {background-color: white;}#sk-container-id-2 label.sk-toggleable__label {cursor: pointer;display: block;width: 100%;margin-bottom: 0;padding: 0.3em;box-sizing: border-box;text-align: center;}#sk-container-id-2 label.sk-toggleable__label-arrow:before {content: \"▸\";float: left;margin-right: 0.25em;color: #696969;}#sk-container-id-2 label.sk-toggleable__label-arrow:hover:before {color: black;}#sk-container-id-2 div.sk-estimator:hover label.sk-toggleable__label-arrow:before {color: black;}#sk-container-id-2 div.sk-toggleable__content {max-height: 0;max-width: 0;overflow: hidden;text-align: left;background-color: #f0f8ff;}#sk-container-id-2 div.sk-toggleable__content pre {margin: 0.2em;color: black;border-radius: 0.25em;background-color: #f0f8ff;}#sk-container-id-2 input.sk-toggleable__control:checked~div.sk-toggleable__content {max-height: 200px;max-width: 100%;overflow: auto;}#sk-container-id-2 input.sk-toggleable__control:checked~label.sk-toggleable__label-arrow:before {content: \"▾\";}#sk-container-id-2 div.sk-estimator input.sk-toggleable__control:checked~label.sk-toggleable__label {background-color: #d4ebff;}#sk-container-id-2 div.sk-label input.sk-toggleable__control:checked~label.sk-toggleable__label {background-color: #d4ebff;}#sk-container-id-2 input.sk-hidden--visually {border: 0;clip: rect(1px 1px 1px 1px);clip: rect(1px, 1px, 1px, 1px);height: 1px;margin: -1px;overflow: hidden;padding: 0;position: absolute;width: 1px;}#sk-container-id-2 div.sk-estimator {font-family: monospace;background-color: #f0f8ff;border: 1px dotted black;border-radius: 0.25em;box-sizing: border-box;margin-bottom: 0.5em;}#sk-container-id-2 div.sk-estimator:hover {background-color: #d4ebff;}#sk-container-id-2 div.sk-parallel-item::after {content: \"\";width: 100%;border-bottom: 1px solid gray;flex-grow: 1;}#sk-container-id-2 div.sk-label:hover label.sk-toggleable__label {background-color: #d4ebff;}#sk-container-id-2 div.sk-serial::before {content: \"\";position: absolute;border-left: 1px solid gray;box-sizing: border-box;top: 0;bottom: 0;left: 50%;z-index: 0;}#sk-container-id-2 div.sk-serial {display: flex;flex-direction: column;align-items: center;background-color: white;padding-right: 0.2em;padding-left: 0.2em;position: relative;}#sk-container-id-2 div.sk-item {position: relative;z-index: 1;}#sk-container-id-2 div.sk-parallel {display: flex;align-items: stretch;justify-content: center;background-color: white;position: relative;}#sk-container-id-2 div.sk-item::before, #sk-container-id-2 div.sk-parallel-item::before {content: \"\";position: absolute;border-left: 1px solid gray;box-sizing: border-box;top: 0;bottom: 0;left: 50%;z-index: -1;}#sk-container-id-2 div.sk-parallel-item {display: flex;flex-direction: column;z-index: 1;position: relative;background-color: white;}#sk-container-id-2 div.sk-parallel-item:first-child::after {align-self: flex-end;width: 50%;}#sk-container-id-2 div.sk-parallel-item:last-child::after {align-self: flex-start;width: 50%;}#sk-container-id-2 div.sk-parallel-item:only-child::after {width: 0;}#sk-container-id-2 div.sk-dashed-wrapped {border: 1px dashed gray;margin: 0 0.4em 0.5em 0.4em;box-sizing: border-box;padding-bottom: 0.4em;background-color: white;}#sk-container-id-2 div.sk-label label {font-family: monospace;font-weight: bold;display: inline-block;line-height: 1.2em;}#sk-container-id-2 div.sk-label-container {text-align: center;}#sk-container-id-2 div.sk-container {/* jupyter's `normalize.less` sets `[hidden] { display: none; }` but bootstrap.min.css set `[hidden] { display: none !important; }` so we also need the `!important` here to be able to override the default hidden behavior on the sphinx rendered scikit-learn.org. See: https://github.com/scikit-learn/scikit-learn/issues/21755 */display: inline-block !important;position: relative;}#sk-container-id-2 div.sk-text-repr-fallback {display: none;}</style><div id=\"sk-container-id-2\" class=\"sk-top-container\"><div class=\"sk-text-repr-fallback\"><pre>Lasso()</pre><b>In a Jupyter environment, please rerun this cell to show the HTML representation or trust the notebook. <br />On GitHub, the HTML representation is unable to render, please try loading this page with nbviewer.org.</b></div><div class=\"sk-container\" hidden><div class=\"sk-item\"><div class=\"sk-estimator sk-toggleable\"><input class=\"sk-toggleable__control sk-hidden--visually\" id=\"sk-estimator-id-2\" type=\"checkbox\" checked><label for=\"sk-estimator-id-2\" class=\"sk-toggleable__label sk-toggleable__label-arrow\">Lasso</label><div class=\"sk-toggleable__content\"><pre>Lasso()</pre></div></div></div></div></div>"
      ],
      "text/plain": [
       "Lasso()"
      ]
     },
     "execution_count": 63,
     "metadata": {},
     "output_type": "execute_result"
    }
   ],
   "source": [
    "ls.fit(x_train,y_train)"
   ]
  },
  {
   "cell_type": "markdown",
   "id": "cdf533fe",
   "metadata": {},
   "source": [
    "Lasso is a regression technique that not only predicts outcomes but\n",
    "also selects important features by penalizing complex models and encouraging simpler ones. \n",
    "It automatically eliminates less relevant features, \n",
    "leading to a sparse and efficient model"
   ]
  },
  {
   "cell_type": "code",
   "execution_count": 64,
   "id": "88b7c30c",
   "metadata": {},
   "outputs": [],
   "source": [
    "df=ls.fit(x_train,y_train)"
   ]
  },
  {
   "cell_type": "code",
   "execution_count": 65,
   "id": "82e987ce",
   "metadata": {},
   "outputs": [],
   "source": [
    "fit = ls.fit(x_train,y_train)"
   ]
  },
  {
   "cell_type": "code",
   "execution_count": 66,
   "id": "b8e93367",
   "metadata": {},
   "outputs": [
    {
     "data": {
      "text/plain": [
       "0.999011343791886"
      ]
     },
     "execution_count": 66,
     "metadata": {},
     "output_type": "execute_result"
    }
   ],
   "source": [
    "fit.score(x_train,y_train)"
   ]
  },
  {
   "cell_type": "code",
   "execution_count": 67,
   "id": "84e93ae3",
   "metadata": {},
   "outputs": [
    {
     "name": "stderr",
     "output_type": "stream",
     "text": [
      "C:\\Users\\HP\\anaconda3\\Lib\\site-packages\\sklearn\\base.py:464: UserWarning: X does not have valid feature names, but Lasso was fitted with feature names\n",
      "  warnings.warn(\n"
     ]
    },
    {
     "data": {
      "text/plain": [
       "array([202.65762881])"
      ]
     },
     "execution_count": 67,
     "metadata": {},
     "output_type": "execute_result"
    }
   ],
   "source": [
    "ls.predict([[10074,6,50,2910,3,2]])"
   ]
  },
  {
   "cell_type": "code",
   "execution_count": 68,
   "id": "993ea976",
   "metadata": {},
   "outputs": [
    {
     "name": "stderr",
     "output_type": "stream",
     "text": [
      "C:\\Users\\HP\\anaconda3\\Lib\\site-packages\\sklearn\\base.py:464: UserWarning: X does not have valid feature names, but Lasso was fitted with feature names\n",
      "  warnings.warn(\n"
     ]
    },
    {
     "data": {
      "text/plain": [
       "array([460.04240032])"
      ]
     },
     "execution_count": 68,
     "metadata": {},
     "output_type": "execute_result"
    }
   ],
   "source": [
    "ls.predict([[6342,4,429,8167,1,1]])"
   ]
  },
  {
   "cell_type": "code",
   "execution_count": 69,
   "id": "b161d540",
   "metadata": {},
   "outputs": [
    {
     "name": "stdout",
     "output_type": "stream",
     "text": [
      "[[10074]\n",
      " [    6]\n",
      " [   50]\n",
      " ...\n",
      " [ 7978]\n",
      " [    1]\n",
      " [    2]]\n"
     ]
    }
   ],
   "source": [
    "x = np.array([[x]])\n",
    "\n",
    "# Reshape the data to a 2D array\n",
    "x_reshaped = x.reshape(-1, 1)\n",
    "\n",
    "# Now 'x_reshaped' is a 2D array\n",
    "print(x_reshaped)"
   ]
  },
  {
   "cell_type": "code",
   "execution_count": 70,
   "id": "f0366fda",
   "metadata": {},
   "outputs": [
    {
     "data": {
      "image/png": "[encoded data removed]",
      "text/plain": [
       "<Figure size 1500x500 with 1 Axes>"
      ]
     },
     "metadata": {},
     "output_type": "display_data"
    }
   ],
   "source": [
    "import matplotlib.pyplot as plt\n",
    "x = np.array([[x]]).reshape(-1, 1)\n",
    "\n",
    "# Generate corresponding y values (replace this with your actual y data)\n",
    "y = np.random.rand(x.shape[0])\n",
    "\n",
    "# Scatter plot\n",
    "plt.scatter(x, y, label='Data Points')\n",
    "plt.xlabel('X')\n",
    "plt.ylabel('Y')\n",
    "plt.title('Scatter Plot')\n",
    "plt.legend()\n",
    "plt.show()"
   ]
  },
  {
   "cell_type": "markdown",
   "id": "0e617f8b",
   "metadata": {},
   "source": [
    "# Ridge\n",
    "\n"
   ]
  },
  {
   "cell_type": "code",
   "execution_count": 71,
   "id": "8a1886ce",
   "metadata": {},
   "outputs": [],
   "source": [
    "from sklearn.linear_model import Ridge"
   ]
  },
  {
   "cell_type": "code",
   "execution_count": 72,
   "id": "18ce1cca",
   "metadata": {},
   "outputs": [],
   "source": [
    "ri=Ridge()"
   ]
  },
  {
   "cell_type": "code",
   "execution_count": 73,
   "id": "3c9d193b",
   "metadata": {},
   "outputs": [
    {
     "data": {
      "text/html": [
       "<style>#sk-container-id-3 {color: black;}#sk-container-id-3 pre{padding: 0;}#sk-container-id-3 div.sk-toggleable {background-color: white;}#sk-container-id-3 label.sk-toggleable__label {cursor: pointer;display: block;width: 100%;margin-bottom: 0;padding: 0.3em;box-sizing: border-box;text-align: center;}#sk-container-id-3 label.sk-toggleable__label-arrow:before {content: \"▸\";float: left;margin-right: 0.25em;color: #696969;}#sk-container-id-3 label.sk-toggleable__label-arrow:hover:before {color: black;}#sk-container-id-3 div.sk-estimator:hover label.sk-toggleable__label-arrow:before {color: black;}#sk-container-id-3 div.sk-toggleable__content {max-height: 0;max-width: 0;overflow: hidden;text-align: left;background-color: #f0f8ff;}#sk-container-id-3 div.sk-toggleable__content pre {margin: 0.2em;color: black;border-radius: 0.25em;background-color: #f0f8ff;}#sk-container-id-3 input.sk-toggleable__control:checked~div.sk-toggleable__content {max-height: 200px;max-width: 100%;overflow: auto;}#sk-container-id-3 input.sk-toggleable__control:checked~label.sk-toggleable__label-arrow:before {content: \"▾\";}#sk-container-id-3 div.sk-estimator input.sk-toggleable__control:checked~label.sk-toggleable__label {background-color: #d4ebff;}#sk-container-id-3 div.sk-label input.sk-toggleable__control:checked~label.sk-toggleable__label {background-color: #d4ebff;}#sk-container-id-3 input.sk-hidden--visually {border: 0;clip: rect(1px 1px 1px 1px);clip: rect(1px, 1px, 1px, 1px);height: 1px;margin: -1px;overflow: hidden;padding: 0;position: absolute;width: 1px;}#sk-container-id-3 div.sk-estimator {font-family: monospace;background-color: #f0f8ff;border: 1px dotted black;border-radius: 0.25em;box-sizing: border-box;margin-bottom: 0.5em;}#sk-container-id-3 div.sk-estimator:hover {background-color: #d4ebff;}#sk-container-id-3 div.sk-parallel-item::after {content: \"\";width: 100%;border-bottom: 1px solid gray;flex-grow: 1;}#sk-container-id-3 div.sk-label:hover label.sk-toggleable__label {background-color: #d4ebff;}#sk-container-id-3 div.sk-serial::before {content: \"\";position: absolute;border-left: 1px solid gray;box-sizing: border-box;top: 0;bottom: 0;left: 50%;z-index: 0;}#sk-container-id-3 div.sk-serial {display: flex;flex-direction: column;align-items: center;background-color: white;padding-right: 0.2em;padding-left: 0.2em;position: relative;}#sk-container-id-3 div.sk-item {position: relative;z-index: 1;}#sk-container-id-3 div.sk-parallel {display: flex;align-items: stretch;justify-content: center;background-color: white;position: relative;}#sk-container-id-3 div.sk-item::before, #sk-container-id-3 div.sk-parallel-item::before {content: \"\";position: absolute;border-left: 1px solid gray;box-sizing: border-box;top: 0;bottom: 0;left: 50%;z-index: -1;}#sk-container-id-3 div.sk-parallel-item {display: flex;flex-direction: column;z-index: 1;position: relative;background-color: white;}#sk-container-id-3 div.sk-parallel-item:first-child::after {align-self: flex-end;width: 50%;}#sk-container-id-3 div.sk-parallel-item:last-child::after {align-self: flex-start;width: 50%;}#sk-container-id-3 div.sk-parallel-item:only-child::after {width: 0;}#sk-container-id-3 div.sk-dashed-wrapped {border: 1px dashed gray;margin: 0 0.4em 0.5em 0.4em;box-sizing: border-box;padding-bottom: 0.4em;background-color: white;}#sk-container-id-3 div.sk-label label {font-family: monospace;font-weight: bold;display: inline-block;line-height: 1.2em;}#sk-container-id-3 div.sk-label-container {text-align: center;}#sk-container-id-3 div.sk-container {/* jupyter's `normalize.less` sets `[hidden] { display: none; }` but bootstrap.min.css set `[hidden] { display: none !important; }` so we also need the `!important` here to be able to override the default hidden behavior on the sphinx rendered scikit-learn.org. See: https://github.com/scikit-learn/scikit-learn/issues/21755 */display: inline-block !important;position: relative;}#sk-container-id-3 div.sk-text-repr-fallback {display: none;}</style><div id=\"sk-container-id-3\" class=\"sk-top-container\"><div class=\"sk-text-repr-fallback\"><pre>Ridge()</pre><b>In a Jupyter environment, please rerun this cell to show the HTML representation or trust the notebook. <br />On GitHub, the HTML representation is unable to render, please try loading this page with nbviewer.org.</b></div><div class=\"sk-container\" hidden><div class=\"sk-item\"><div class=\"sk-estimator sk-toggleable\"><input class=\"sk-toggleable__control sk-hidden--visually\" id=\"sk-estimator-id-3\" type=\"checkbox\" checked><label for=\"sk-estimator-id-3\" class=\"sk-toggleable__label sk-toggleable__label-arrow\">Ridge</label><div class=\"sk-toggleable__content\"><pre>Ridge()</pre></div></div></div></div></div>"
      ],
      "text/plain": [
       "Ridge()"
      ]
     },
     "execution_count": 73,
     "metadata": {},
     "output_type": "execute_result"
    }
   ],
   "source": [
    "ri.fit(x_train,y_train)"
   ]
  },
  {
   "cell_type": "markdown",
   "id": "446a51b5",
   "metadata": {},
   "source": [
    "Ridge regression stabilizes linear models by adding a squared penalty term, preventing overfitting. \n",
    "It effectively handles multicollinearity, promoting balanced coefficients without sparse feature selection.\n",
    "The squared penalty mitigates collinearity concerns, finding a middle ground between fitting the data well and maintaining model simplicity. \n",
    "This balance makes Ridge regression robust to overfitting, ensuring a reliable and generalized solution"
   ]
  },
  {
   "cell_type": "code",
   "execution_count": 74,
   "id": "dd32af46",
   "metadata": {},
   "outputs": [],
   "source": [
    "df=ri.fit(x_train,y_train)"
   ]
  },
  {
   "cell_type": "code",
   "execution_count": 75,
   "id": "61d56cde",
   "metadata": {},
   "outputs": [],
   "source": [
    "fit =ri.fit(x_train,y_train)"
   ]
  },
  {
   "cell_type": "code",
   "execution_count": 76,
   "id": "700f1bed",
   "metadata": {},
   "outputs": [
    {
     "data": {
      "text/plain": [
       "0.9990121901576711"
      ]
     },
     "execution_count": 76,
     "metadata": {},
     "output_type": "execute_result"
    }
   ],
   "source": [
    "fit.score(x_train,y_train)"
   ]
  },
  {
   "cell_type": "code",
   "execution_count": 77,
   "id": "882de9c1",
   "metadata": {},
   "outputs": [
    {
     "name": "stderr",
     "output_type": "stream",
     "text": [
      "C:\\Users\\HP\\anaconda3\\Lib\\site-packages\\sklearn\\base.py:464: UserWarning: X does not have valid feature names, but Ridge was fitted with feature names\n",
      "  warnings.warn(\n"
     ]
    },
    {
     "data": {
      "text/plain": [
       "array([[202.73670613]])"
      ]
     },
     "execution_count": 77,
     "metadata": {},
     "output_type": "execute_result"
    }
   ],
   "source": [
    "ri.predict([[10074,6,50,2910,3,2]])"
   ]
  },
  {
   "cell_type": "code",
   "execution_count": 78,
   "id": "3515d358",
   "metadata": {},
   "outputs": [
    {
     "name": "stderr",
     "output_type": "stream",
     "text": [
      "C:\\Users\\HP\\anaconda3\\Lib\\site-packages\\sklearn\\base.py:464: UserWarning: X does not have valid feature names, but Ridge was fitted with feature names\n",
      "  warnings.warn(\n"
     ]
    },
    {
     "data": {
      "text/plain": [
       "array([[459.813536]])"
      ]
     },
     "execution_count": 78,
     "metadata": {},
     "output_type": "execute_result"
    }
   ],
   "source": [
    "ri.predict([[6342,4,429,8167,1,1]])"
   ]
  },
  {
   "cell_type": "code",
   "execution_count": null,
   "id": "20756b48",
   "metadata": {},
   "outputs": [],
   "source": []
  }
 ],
 "metadata": {
  "kernelspec": {
   "display_name": "Python 3 (ipykernel)",
   "language": "python",
   "name": "python3"
  },
  "language_info": {
   "codemirror_mode": {
    "name": "ipython",
    "version": 3
   },
   "file_extension": ".py",
   "mimetype": "text/x-python",
   "name": "python",
   "nbconvert_exporter": "python",
   "pygments_lexer": "ipython3",
   "version": "3.11.5"
  }
 },
 "nbformat": 4,
 "nbformat_minor": 5
}
